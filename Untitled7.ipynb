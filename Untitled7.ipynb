{
  "nbformat": 4,
  "nbformat_minor": 0,
  "metadata": {
    "colab": {
      "provenance": [],
      "gpuType": "T4",
      "authorship_tag": "ABX9TyPXFwRaLMYAjgLgt2/ykzJg",
      "include_colab_link": true
    },
    "kernelspec": {
      "name": "python3",
      "display_name": "Python 3"
    },
    "language_info": {
      "name": "python"
    },
    "accelerator": "GPU"
  },
  "cells": [
    {
      "cell_type": "markdown",
      "metadata": {
        "id": "view-in-github",
        "colab_type": "text"
      },
      "source": [
        "<a href=\"https://colab.research.google.com/github/Dhay112233/Dhay/blob/main/Untitled7.ipynb\" target=\"_parent\"><img src=\"https://colab.research.google.com/assets/colab-badge.svg\" alt=\"Open In Colab\"/></a>"
      ]
    },
    {
      "cell_type": "code",
      "execution_count": 4,
      "metadata": {
        "colab": {
          "base_uri": "https://localhost:8080/"
        },
        "id": "GF_09hB9l44s",
        "outputId": "e9cc38aa-3d92-471c-e23d-4d7997865619"
      },
      "outputs": [
        {
          "output_type": "stream",
          "name": "stdout",
          "text": [
            "Collecting roboflow\n",
            "  Downloading roboflow-1.1.48-py3-none-any.whl.metadata (9.7 kB)\n",
            "Requirement already satisfied: certifi in /usr/local/lib/python3.10/dist-packages (from roboflow) (2024.8.30)\n",
            "Collecting idna==3.7 (from roboflow)\n",
            "  Downloading idna-3.7-py3-none-any.whl.metadata (9.9 kB)\n",
            "Requirement already satisfied: cycler in /usr/local/lib/python3.10/dist-packages (from roboflow) (0.12.1)\n",
            "Requirement already satisfied: kiwisolver>=1.3.1 in /usr/local/lib/python3.10/dist-packages (from roboflow) (1.4.7)\n",
            "Requirement already satisfied: matplotlib in /usr/local/lib/python3.10/dist-packages (from roboflow) (3.7.1)\n",
            "Requirement already satisfied: numpy>=1.18.5 in /usr/local/lib/python3.10/dist-packages (from roboflow) (1.26.4)\n",
            "Requirement already satisfied: opencv-python-headless==4.10.0.84 in /usr/local/lib/python3.10/dist-packages (from roboflow) (4.10.0.84)\n",
            "Requirement already satisfied: Pillow>=7.1.2 in /usr/local/lib/python3.10/dist-packages (from roboflow) (10.4.0)\n",
            "Requirement already satisfied: python-dateutil in /usr/local/lib/python3.10/dist-packages (from roboflow) (2.8.2)\n",
            "Collecting python-dotenv (from roboflow)\n",
            "  Downloading python_dotenv-1.0.1-py3-none-any.whl.metadata (23 kB)\n",
            "Requirement already satisfied: requests in /usr/local/lib/python3.10/dist-packages (from roboflow) (2.32.3)\n",
            "Requirement already satisfied: six in /usr/local/lib/python3.10/dist-packages (from roboflow) (1.16.0)\n",
            "Requirement already satisfied: urllib3>=1.26.6 in /usr/local/lib/python3.10/dist-packages (from roboflow) (2.2.3)\n",
            "Requirement already satisfied: tqdm>=4.41.0 in /usr/local/lib/python3.10/dist-packages (from roboflow) (4.66.5)\n",
            "Requirement already satisfied: PyYAML>=5.3.1 in /usr/local/lib/python3.10/dist-packages (from roboflow) (6.0.2)\n",
            "Collecting requests-toolbelt (from roboflow)\n",
            "  Downloading requests_toolbelt-1.0.0-py2.py3-none-any.whl.metadata (14 kB)\n",
            "Collecting filetype (from roboflow)\n",
            "  Downloading filetype-1.2.0-py2.py3-none-any.whl.metadata (6.5 kB)\n",
            "Requirement already satisfied: contourpy>=1.0.1 in /usr/local/lib/python3.10/dist-packages (from matplotlib->roboflow) (1.3.0)\n",
            "Requirement already satisfied: fonttools>=4.22.0 in /usr/local/lib/python3.10/dist-packages (from matplotlib->roboflow) (4.54.1)\n",
            "Requirement already satisfied: packaging>=20.0 in /usr/local/lib/python3.10/dist-packages (from matplotlib->roboflow) (24.1)\n",
            "Requirement already satisfied: pyparsing>=2.3.1 in /usr/local/lib/python3.10/dist-packages (from matplotlib->roboflow) (3.2.0)\n",
            "Requirement already satisfied: charset-normalizer<4,>=2 in /usr/local/lib/python3.10/dist-packages (from requests->roboflow) (3.4.0)\n",
            "Downloading roboflow-1.1.48-py3-none-any.whl (80 kB)\n",
            "\u001b[2K   \u001b[90m━━━━━━━━━━━━━━━━━━━━━━━━━━━━━━━━━━━━━━━━\u001b[0m \u001b[32m80.3/80.3 kB\u001b[0m \u001b[31m5.8 MB/s\u001b[0m eta \u001b[36m0:00:00\u001b[0m\n",
            "\u001b[?25hDownloading idna-3.7-py3-none-any.whl (66 kB)\n",
            "\u001b[2K   \u001b[90m━━━━━━━━━━━━━━━━━━━━━━━━━━━━━━━━━━━━━━━━\u001b[0m \u001b[32m66.8/66.8 kB\u001b[0m \u001b[31m6.7 MB/s\u001b[0m eta \u001b[36m0:00:00\u001b[0m\n",
            "\u001b[?25hDownloading filetype-1.2.0-py2.py3-none-any.whl (19 kB)\n",
            "Downloading python_dotenv-1.0.1-py3-none-any.whl (19 kB)\n",
            "Downloading requests_toolbelt-1.0.0-py2.py3-none-any.whl (54 kB)\n",
            "\u001b[2K   \u001b[90m━━━━━━━━━━━━━━━━━━━━━━━━━━━━━━━━━━━━━━━━\u001b[0m \u001b[32m54.5/54.5 kB\u001b[0m \u001b[31m5.3 MB/s\u001b[0m eta \u001b[36m0:00:00\u001b[0m\n",
            "\u001b[?25hInstalling collected packages: filetype, python-dotenv, idna, requests-toolbelt, roboflow\n",
            "  Attempting uninstall: idna\n",
            "    Found existing installation: idna 3.10\n",
            "    Uninstalling idna-3.10:\n",
            "      Successfully uninstalled idna-3.10\n",
            "Successfully installed filetype-1.2.0 idna-3.7 python-dotenv-1.0.1 requests-toolbelt-1.0.0 roboflow-1.1.48\n",
            "loading Roboflow workspace...\n",
            "loading Roboflow project...\n"
          ]
        },
        {
          "output_type": "stream",
          "name": "stderr",
          "text": [
            "Downloading Dataset Version Zip in Fallen-People--15 to tensorflow:: 100%|██████████| 37472/37472 [00:01<00:00, 36418.16it/s]"
          ]
        },
        {
          "output_type": "stream",
          "name": "stdout",
          "text": [
            "\n"
          ]
        },
        {
          "output_type": "stream",
          "name": "stderr",
          "text": [
            "\n",
            "Extracting Dataset Version Zip to Fallen-People--15 in tensorflow:: 100%|██████████| 616/616 [00:00<00:00, 4636.13it/s]\n"
          ]
        }
      ],
      "source": [
        "!pip install roboflow\n",
        "\n",
        "from roboflow import Roboflow\n",
        "rf = Roboflow(api_key=\"wzY7CrfZwwrhoGPfjSQc\")\n",
        "project = rf.workspace(\"fallenpeople-training-dataset-complete-computer-vision-project\").project(\"fallen-people-9wcfl\")\n",
        "version = project.version(15)\n",
        "dataset = version.download(\"tensorflow\")\n",
        ""
      ]
    },
    {
      "cell_type": "code",
      "source": [
        "import os\n",
        "import pandas as pd\n",
        "import shutil\n",
        "\n",
        " # Set paths for annotations and images\n",
        "train_annotations_path =  '/content/annotations-test.csv'    # Update this path\n",
        "val_annotations_path =  '/content/annotations-train.csv'    # Update this path\n",
        "test_annotations_path =     '/content/annotations-valid.csv'    # Update this path\n",
        "\n",
        "# Base path for the organized dataset\n",
        "output_base_path = '/content/faint_detection_newdataset/'  # Where the organized dataset will be stored\n",
        "\n",
        "# Create base directories for organized dataset\n",
        "output_dirs = ['train', 'validate', 'test']\n",
        "for dir_name in output_dirs:\n",
        "    os.makedirs(os.path.join(output_base_path, dir_name), exist_ok=True)\n",
        "\n",
        "# Function to organize images based on annotations\n",
        "def organize_images(annotations_path, dataset_type, source_image_dir):\n",
        "    # Read the annotations CSV\n",
        "    annotations_df = pd.read_csv(annotations_path)\n",
        "\n",
        "    # Assuming the CSV has columns: 'filename' and 'class'\n",
        "    for index, row in annotations_df.iterrows():\n",
        "        filename = row['filename']\n",
        "        class_name = row['class']\n",
        "\n",
        "        # Create class directory if it does not exist\n",
        "        class_dir = os.path.join(output_base_path, dataset_type, class_name)\n",
        "        os.makedirs(class_dir, exist_ok=True)\n",
        "\n",
        "        # Define source and destination paths\n",
        "        source_path = os.path.join(source_image_dir, filename)\n",
        "        destination_path = os.path.join(class_dir, filename)\n",
        "\n",
        "        # Copy the image to the respective class directory\n",
        "        if os.path.exists(source_path):\n",
        "            shutil.copy(source_path, destination_path)\n",
        "        else:\n",
        "            print(f\"Warning: {source_path} does not exist.\")\n",
        "\n",
        "# Organize images for each dataset\n",
        "organize_images(train_annotations_path, 'test', '/content/Fallen-People--15/test')\n",
        "organize_images(val_annotations_path,'train', '/content/Fallen-People--15/train' )\n",
        "organize_images(test_annotations_path, 'validate', '/content/Fallen-People--15/valid')\n",
        "\n",
        "print('Dataset organization complete!')"
      ],
      "metadata": {
        "colab": {
          "base_uri": "https://localhost:8080/"
        },
        "id": "CrvOEX8Fz2bH",
        "outputId": "0fe7ab97-08a6-4977-d39b-09f7460569ca"
      },
      "execution_count": 6,
      "outputs": [
        {
          "output_type": "stream",
          "name": "stdout",
          "text": [
            "Dataset organization complete!\n"
          ]
        }
      ]
    },
    {
      "cell_type": "code",
      "source": [
        "pip install optuna"
      ],
      "metadata": {
        "colab": {
          "base_uri": "https://localhost:8080/"
        },
        "id": "QCUp8xuI1HuY",
        "outputId": "d7aa4b91-f45d-4b7b-8ef9-d533ff8c37d2"
      },
      "execution_count": 2,
      "outputs": [
        {
          "output_type": "stream",
          "name": "stdout",
          "text": [
            "Collecting optuna\n",
            "  Downloading optuna-4.0.0-py3-none-any.whl.metadata (16 kB)\n",
            "Collecting alembic>=1.5.0 (from optuna)\n",
            "  Downloading alembic-1.13.3-py3-none-any.whl.metadata (7.4 kB)\n",
            "Collecting colorlog (from optuna)\n",
            "  Downloading colorlog-6.8.2-py3-none-any.whl.metadata (10 kB)\n",
            "Requirement already satisfied: numpy in /usr/local/lib/python3.10/dist-packages (from optuna) (1.26.4)\n",
            "Requirement already satisfied: packaging>=20.0 in /usr/local/lib/python3.10/dist-packages (from optuna) (24.1)\n",
            "Requirement already satisfied: sqlalchemy>=1.3.0 in /usr/local/lib/python3.10/dist-packages (from optuna) (2.0.36)\n",
            "Requirement already satisfied: tqdm in /usr/local/lib/python3.10/dist-packages (from optuna) (4.66.5)\n",
            "Requirement already satisfied: PyYAML in /usr/local/lib/python3.10/dist-packages (from optuna) (6.0.2)\n",
            "Collecting Mako (from alembic>=1.5.0->optuna)\n",
            "  Downloading Mako-1.3.6-py3-none-any.whl.metadata (2.9 kB)\n",
            "Requirement already satisfied: typing-extensions>=4 in /usr/local/lib/python3.10/dist-packages (from alembic>=1.5.0->optuna) (4.12.2)\n",
            "Requirement already satisfied: greenlet!=0.4.17 in /usr/local/lib/python3.10/dist-packages (from sqlalchemy>=1.3.0->optuna) (3.1.1)\n",
            "Requirement already satisfied: MarkupSafe>=0.9.2 in /usr/local/lib/python3.10/dist-packages (from Mako->alembic>=1.5.0->optuna) (3.0.2)\n",
            "Downloading optuna-4.0.0-py3-none-any.whl (362 kB)\n",
            "\u001b[2K   \u001b[90m━━━━━━━━━━━━━━━━━━━━━━━━━━━━━━━━━━━━━━━━\u001b[0m \u001b[32m362.8/362.8 kB\u001b[0m \u001b[31m8.5 MB/s\u001b[0m eta \u001b[36m0:00:00\u001b[0m\n",
            "\u001b[?25hDownloading alembic-1.13.3-py3-none-any.whl (233 kB)\n",
            "\u001b[2K   \u001b[90m━━━━━━━━━━━━━━━━━━━━━━━━━━━━━━━━━━━━━━━━\u001b[0m \u001b[32m233.2/233.2 kB\u001b[0m \u001b[31m14.7 MB/s\u001b[0m eta \u001b[36m0:00:00\u001b[0m\n",
            "\u001b[?25hDownloading colorlog-6.8.2-py3-none-any.whl (11 kB)\n",
            "Downloading Mako-1.3.6-py3-none-any.whl (78 kB)\n",
            "\u001b[2K   \u001b[90m━━━━━━━━━━━━━━━━━━━━━━━━━━━━━━━━━━━━━━━━\u001b[0m \u001b[32m78.6/78.6 kB\u001b[0m \u001b[31m6.5 MB/s\u001b[0m eta \u001b[36m0:00:00\u001b[0m\n",
            "\u001b[?25hInstalling collected packages: Mako, colorlog, alembic, optuna\n",
            "Successfully installed Mako-1.3.6 alembic-1.13.3 colorlog-6.8.2 optuna-4.0.0\n"
          ]
        }
      ]
    },
    {
      "cell_type": "code",
      "source": [
        "import os\n",
        "import pandas as pd\n",
        "from PIL import Image\n",
        "\n",
        "def check_image_datasets(directories):\n",
        "    # List to hold image file paths and their corresponding hashes\n",
        "    image_data = []\n",
        "\n",
        "    # Iterate through all provided directories\n",
        "    for directory in directories:\n",
        "        if not os.path.isdir(directory):\n",
        "            print(f\"Directory does not exist: {directory}\")\n",
        "            continue\n",
        "\n",
        "        # Iterate through all files in the directory\n",
        "        for filename in os.listdir(directory):\n",
        "            file_path = os.path.join(directory, filename)\n",
        "\n",
        "            # Check if the file is an image\n",
        "            try:\n",
        "                with Image.open(file_path) as img:\n",
        "                    # Convert image to a hash\n",
        "                    img_hash = hash(img.tobytes())\n",
        "                    image_data.append((filename, img_hash))\n",
        "            except Exception as e:\n",
        "                print(f\"Could not open {file_path}: {e}\")\n",
        "\n",
        "    # Create a DataFrame\n",
        "    df = pd.DataFrame(image_data, columns=['filename', 'hash'])\n",
        "\n",
        "    # Check for duplicates\n",
        "    duplicate_images = df[df.duplicated(subset='hash', keep=False)]\n",
        "\n",
        "    # Output results\n",
        "    if not duplicate_images.empty:\n",
        "        print(\"Duplicate images found:\")\n",
        "        print(duplicate_images)\n",
        "    else:\n",
        "        print(\"No duplicate images found.\")\n",
        "\n",
        "def delete_duplicate_images(directories):\n",
        "    # List to hold image file paths and their corresponding hashes\n",
        "    image_data = []\n",
        "    hash_map = {}\n",
        "\n",
        "    # Iterate through all provided directories\n",
        "    for directory in directories:\n",
        "        if not os.path.isdir(directory):\n",
        "            print(f\"Directory does not exist: {directory}\")\n",
        "            continue\n",
        "\n",
        "        # Iterate through all files in the directory\n",
        "        for filename in os.listdir(directory):\n",
        "            file_path = os.path.join(directory, filename)\n",
        "\n",
        "            # Check if the file is an image\n",
        "            try:\n",
        "                with Image.open(file_path) as img:\n",
        "                    # Convert image to a hash\n",
        "                    img_hash = hash(img.tobytes())\n",
        "                    image_data.append((filename, img_hash))\n",
        "\n",
        "                    # Store the file path in the hash map\n",
        "                    if img_hash in hash_map:\n",
        "                        hash_map[img_hash].append(file_path)\n",
        "                    else:\n",
        "                        hash_map[img_hash] = [file_path]\n",
        "            except Exception as e:\n",
        "                print(f\"Could not open {file_path}: {e}\")\n",
        "\n",
        "    # Identify and delete duplicate images\n",
        "    duplicates_found = False\n",
        "    for paths in hash_map.values():\n",
        "        if len(paths) > 1:\n",
        "            duplicates_found = True\n",
        "            # Keep the first image and delete the others\n",
        "            for path in paths[1:]:\n",
        "                print(f\"Deleting duplicate image: {path}\")\n",
        "                os.remove(path)\n",
        "\n",
        "    if not duplicates_found:\n",
        "        print(\"No duplicate images found.\")\n",
        "\n",
        "# Specify the directories containing your images\n",
        "image_directories = [\n",
        "    '/content/faint_detection_newdataset/train/Fallen',\n",
        "    '/content/faint_detection_newdataset/train/Standing',\n",
        "    '/content/faint_detection_newdataset/validate/Fallen',\n",
        "    '/content/faint_detection_newdataset/validate/Standing',\n",
        "    '/content/faint_detection_newdataset/test/Fallen',\n",
        "    '/content/faint_detection_newdataset/test/Standing'\n",
        "\n",
        "]\n",
        "\n",
        "# Check for duplicates\n",
        "check_image_datasets(image_directories)\n",
        "\n",
        "# Optionally, delete duplicates\n",
        "delete_duplicate_images(image_directories)"
      ],
      "metadata": {
        "colab": {
          "base_uri": "https://localhost:8080/"
        },
        "id": "qADwsyEigeQ3",
        "outputId": "e8c4badd-f729-4e53-932f-c8b2bb0978ec"
      },
      "execution_count": 7,
      "outputs": [
        {
          "output_type": "stream",
          "name": "stdout",
          "text": [
            "Duplicate images found:\n",
            "                                               filename                 hash\n",
            "0     S0e9VIx20ISPkcLZNBtdGeZzzp_jpg.rf.7bc6fbaf80e9... -2355280638934857308\n",
            "1     AAaukwx6ZLvqq1Qo2RzXt6jv4g_jpg.rf.60d242addfd1...   389683189676403958\n",
            "2     g35G3ux9fj7q2PrOntOnIF8Fgd_jpg.rf.6cd9c6394f2e...  8433605876697643363\n",
            "3     3LrCHmtYo05mAf7J7HLiNL3fXn_jpg.rf.85a9fd6243eb... -7043651509597639383\n",
            "4     VaRDpweSJr3nQxR2jNzHUUL4iS_jpg.rf.a9c784e8fb7c... -5195903872650939893\n",
            "...                                                 ...                  ...\n",
            "1155  SG446TFqJ7IxsI2mhgDVz3V2is_jpg.rf.6bad7d9c5eb0...  1924756891863734646\n",
            "1156  ApbXSjojAgGKYiNVDz1l5OfFdw_jpg.rf.c28a1f994b74... -4747768420120258471\n",
            "1157  EfJG8cE2PsLrsWxTqp1GQJV3IW_jpg.rf.c71e01c4460b...  4757933310262351302\n",
            "1158  poF2Uu4Emg3ubmaEDp1VqVsMnw_jpg.rf.18ef5f9cdd69... -6644931026925857323\n",
            "1159  mF8SnN4AXkLm2udNF3eH5pfGvu_jpg.rf.6e6fbad8a786...  4070575073852909005\n",
            "\n",
            "[1104 rows x 2 columns]\n",
            "Deleting duplicate image: /content/faint_detection_newdataset/train/Standing/S0e9VIx20ISPkcLZNBtdGeZzzp_jpg.rf.7bc6fbaf80e9754e113a38b4e9010635.jpg\n",
            "Deleting duplicate image: /content/faint_detection_newdataset/train/Standing/AAaukwx6ZLvqq1Qo2RzXt6jv4g_jpg.rf.60d242addfd1cefb6d4b0b18af716828.jpg\n",
            "Deleting duplicate image: /content/faint_detection_newdataset/train/Standing/g35G3ux9fj7q2PrOntOnIF8Fgd_jpg.rf.6cd9c6394f2ef541ca7b6a2239c5b148.jpg\n",
            "Deleting duplicate image: /content/faint_detection_newdataset/train/Standing/3LrCHmtYo05mAf7J7HLiNL3fXn_jpg.rf.85a9fd6243eb8fbd9819bd508df28cac.jpg\n",
            "Deleting duplicate image: /content/faint_detection_newdataset/train/Standing/VaRDpweSJr3nQxR2jNzHUUL4iS_jpg.rf.a9c784e8fb7ca1d1706fdd68fae9cd05.jpg\n",
            "Deleting duplicate image: /content/faint_detection_newdataset/train/Standing/ebmY1nOdYSBxaruFdfb8cmSM1O_jpg.rf.112f05aa36af8c248ff44da384a2bc98.jpg\n",
            "Deleting duplicate image: /content/faint_detection_newdataset/train/Standing/JxUEdpMMSQtMVHBhccihtsJAFI_jpg.rf.ff0927eaeb4f1f3e12eb3291b483f678.jpg\n",
            "Deleting duplicate image: /content/faint_detection_newdataset/train/Standing/nV8muieIkrW16pTVp4h9Y8Q8lj_jpg.rf.9719ad0323ad04677d097450f96794d9.jpg\n",
            "Deleting duplicate image: /content/faint_detection_newdataset/train/Standing/csHXIKxqqfTHG0AIzXuDnzOeP2_jpg.rf.62b9d65c6f796e30cadd8d978347c922.jpg\n",
            "Deleting duplicate image: /content/faint_detection_newdataset/train/Standing/YrT3NM2b4pJ9Tg3xmATR0OaB0W_jpg.rf.9672ae87370ac52d884b50a742758eda.jpg\n",
            "Deleting duplicate image: /content/faint_detection_newdataset/train/Standing/KaG4cvmu4HQbFSz4uGQe3miMsp_jpg.rf.2c4f1c6a684267f1fdc2cff27939b32d.jpg\n",
            "Deleting duplicate image: /content/faint_detection_newdataset/train/Standing/csoktauq8m8P4TFInqFnfBwcVv_jpg.rf.28944e73f81046c4a167920eb28d9aa0.jpg\n",
            "Deleting duplicate image: /content/faint_detection_newdataset/train/Standing/YNN66jm19FMfkJRFMd6RAADSnN_jpg.rf.0d5648a8c5fdf38d669799a9627d2216.jpg\n",
            "Deleting duplicate image: /content/faint_detection_newdataset/train/Standing/c4xeJfg7iKhHGSuOhlR7ZzzqCS_jpg.rf.425878fd4e65cdd1a2e1d315e890d4dc.jpg\n",
            "Deleting duplicate image: /content/faint_detection_newdataset/train/Standing/zUv3sWLWz1WXu34E50d9SXs5Ef_jpg.rf.b198b82efa7f201876822a5168e99796.jpg\n",
            "Deleting duplicate image: /content/faint_detection_newdataset/train/Standing/yFMoVIj9w7Kgz83g2QScUlCqwl_jpg.rf.36e7d5193c1bad3822aaab53541e4f53.jpg\n",
            "Deleting duplicate image: /content/faint_detection_newdataset/train/Standing/BD8FGwepCpUFgG3BCFz1R2Sgk6_jpg.rf.e42c60e5bb81cbb645cf9765d29e4949.jpg\n",
            "Deleting duplicate image: /content/faint_detection_newdataset/train/Standing/DAG5HDAYiU8O95EXzpLwtBpAGv_jpg.rf.6ae0e848f847164290fdd193df91aaf1.jpg\n",
            "Deleting duplicate image: /content/faint_detection_newdataset/train/Standing/7mzD9G9RkFoBHXxKkQMjj4J0Od_jpg.rf.af39d66af5e99dbbf60ad48eb48d593e.jpg\n",
            "Deleting duplicate image: /content/faint_detection_newdataset/train/Standing/UCEBZJB7qVNtv4GPjVFhJMFUgR_jpg.rf.10ed1f1e5545d40ca7799e1094108cd5.jpg\n",
            "Deleting duplicate image: /content/faint_detection_newdataset/train/Standing/0DGXYunGOy7xfZJ8VZeSVtqsYa_jpg.rf.f604897baf40ac6a102d10940e556056.jpg\n",
            "Deleting duplicate image: /content/faint_detection_newdataset/train/Standing/L6wso2KLoZVlMq1TsvyjJngpJy_jpg.rf.635ce85cf16f034ec706be678d8382d5.jpg\n",
            "Deleting duplicate image: /content/faint_detection_newdataset/train/Standing/Wgm27Lvi1KaPPP5yz4wAr8PuSO_jpg.rf.2d9bb6539f3a602bd731b332244910aa.jpg\n",
            "Deleting duplicate image: /content/faint_detection_newdataset/train/Standing/prbOUJIfDSR8DC6HPYdXrOT8jr_jpg.rf.92abd40e11ded3586a463435fd538e7f.jpg\n",
            "Deleting duplicate image: /content/faint_detection_newdataset/train/Standing/7OwJ6UjOiI7Rasvw3MSjh84vHY_jpg.rf.84f3efa4e89112a48392cb2354705fa5.jpg\n",
            "Deleting duplicate image: /content/faint_detection_newdataset/train/Standing/XJUXWCIC2G5cfFm5Un0bfTtd5S_jpg.rf.7956207480e1cc176a8eb29b820fc285.jpg\n",
            "Deleting duplicate image: /content/faint_detection_newdataset/train/Standing/ZG2tuANQAlqBOoSS2G8LzHWrCf_jpg.rf.86c6062c230eb77453647956d86b4707.jpg\n",
            "Deleting duplicate image: /content/faint_detection_newdataset/train/Standing/wOfOQs4X2yz7cLI8pHJ2eAg9K3_jpg.rf.a9bf1e9868094dbecdf3a0920e15a661.jpg\n",
            "Deleting duplicate image: /content/faint_detection_newdataset/train/Standing/ZabeJNWvHxQJonFgo9pnXA1BNq_jpg.rf.aa121387f1f5eaab43c7006dc9906797.jpg\n",
            "Deleting duplicate image: /content/faint_detection_newdataset/train/Standing/fKYz266ujWT2ArrjqZVoNb2pE7_jpg.rf.28dae92750a0dfd32cd26f1fd15b249b.jpg\n",
            "Deleting duplicate image: /content/faint_detection_newdataset/train/Standing/FlBa6YSviVD3jEyq5t0ZwdPOux_jpg.rf.686eb537a55b542df3776ca6ae96e7df.jpg\n",
            "Deleting duplicate image: /content/faint_detection_newdataset/train/Standing/sLSpUINGeq1gKGnssHeVSbVeES_jpg.rf.63daaef739a414d9b9a2d11d04806bad.jpg\n",
            "Deleting duplicate image: /content/faint_detection_newdataset/train/Standing/nnGQZqd9WnDLbDsrKIsLs0u53R_jpg.rf.7c6f7d568d9cf8f4f95dd8fa063a2ee5.jpg\n",
            "Deleting duplicate image: /content/faint_detection_newdataset/train/Standing/5OwkHpKwe1P2uKP1NKOgyN0tdJ_jpg.rf.89095018876f0c91190b224e422b0519.jpg\n",
            "Deleting duplicate image: /content/faint_detection_newdataset/train/Standing/WDje0Rc77TLGR1nDQhXILguJwN_jpg.rf.d2ae13f68f02745513d263fee5a21607.jpg\n",
            "Deleting duplicate image: /content/faint_detection_newdataset/train/Standing/4uEOOnrWtx8Sv8T3S1waQvFCxD_jpg.rf.901d05970b4c63b11f6a0d17ee34c695.jpg\n",
            "Deleting duplicate image: /content/faint_detection_newdataset/train/Standing/K2YaOUzcDegsaUZLeFpzXy4JSx_jpg.rf.bec3119d7a72c10271428d3a4282b5d4.jpg\n",
            "Deleting duplicate image: /content/faint_detection_newdataset/train/Standing/jEEmrUJF3Jftx7UiUk5j1lvagN_jpg.rf.4e53fd05d934cdd849ee1a061aa5f8d2.jpg\n",
            "Deleting duplicate image: /content/faint_detection_newdataset/train/Standing/nQTuKj8zJiWfA4mQO4TAtp5VYS_jpg.rf.69e3cea49a5d727bb825696d56741853.jpg\n",
            "Deleting duplicate image: /content/faint_detection_newdataset/train/Standing/pfj0FswVoVZlQqcWr0NsrciZh1_jpg.rf.0362b088f9479048f8f3b96115c4d7a5.jpg\n",
            "Deleting duplicate image: /content/faint_detection_newdataset/train/Standing/MTwG9mcEf5VzF7z68UxcPm7W36_jpg.rf.b489f8025f0096694ad9958026c58969.jpg\n",
            "Deleting duplicate image: /content/faint_detection_newdataset/train/Standing/iYvmj02hJeeJn5fEW0rXwollx4_jpg.rf.cd8e439a5d9908a5fe86ea2bcb9c3701.jpg\n",
            "Deleting duplicate image: /content/faint_detection_newdataset/train/Standing/78B63zzJnG1zxHjbMYs78DDcHQ_jpg.rf.9fa521986c83be4af9b27499a2f24466.jpg\n",
            "Deleting duplicate image: /content/faint_detection_newdataset/train/Standing/3Z0FPFoQn68CCzNdkVZ7bDnB0G_jpg.rf.08a28b615c1fed0dc19eb590eb56952b.jpg\n",
            "Deleting duplicate image: /content/faint_detection_newdataset/train/Standing/qBoriHk2gOl11EiqtbCIwcR4eW_jpg.rf.2b17c3324b4fd38d07db14120cd532df.jpg\n",
            "Deleting duplicate image: /content/faint_detection_newdataset/train/Standing/nLbNDgt7XPcd2xXObb2WwYW8GK_jpg.rf.6b84955def9492f3ecb65ee741591067.jpg\n",
            "Deleting duplicate image: /content/faint_detection_newdataset/train/Standing/729lGzkoweP0CPwsGM6ar9510I_jpg.rf.4c974f1e1f1e9ced6e68d7742551c846.jpg\n",
            "Deleting duplicate image: /content/faint_detection_newdataset/train/Standing/fcPZrNVntHmlWBzTSHpaM86JXv_jpg.rf.d631a70e5ccf53a52e5d58feba23d5a4.jpg\n",
            "Deleting duplicate image: /content/faint_detection_newdataset/train/Standing/13DVnRw0nLBYYIuDIRHmtmEMI8_jpg.rf.7a96f1337c7e5c04aa9374165c362b74.jpg\n",
            "Deleting duplicate image: /content/faint_detection_newdataset/train/Standing/PxDYsJnNjOsaPgCo65KaQoQAn5_jpg.rf.08288e91ee5f4d277b1e229992717048.jpg\n",
            "Deleting duplicate image: /content/faint_detection_newdataset/train/Standing/MK4AjqE31oQbz2ugTQQHxRYco6_jpg.rf.51db3e49af6da1fb9e8f78ed77eb5907.jpg\n",
            "Deleting duplicate image: /content/faint_detection_newdataset/train/Standing/24fVAz0d3FsMLhQRKtel2y6bRh_jpg.rf.2d14b8fc8feaf19b955885dc2c3ff174.jpg\n",
            "Deleting duplicate image: /content/faint_detection_newdataset/train/Standing/k5D9ck1N5N19cdhng2WrPNTrXm_jpg.rf.e9f23b399ba00b9a0a5b5dfe2b6c0898.jpg\n",
            "Deleting duplicate image: /content/faint_detection_newdataset/train/Standing/WSH6bH53u1Fg7rpdx9oIU0m2DW_jpg.rf.379c31233f90d44328388073966a841c.jpg\n",
            "Deleting duplicate image: /content/faint_detection_newdataset/train/Standing/2pUQ6LKRPOgIupQB5fR765bd8x_jpg.rf.d1b378f957bdc5830cdc294c8b6077a6.jpg\n",
            "Deleting duplicate image: /content/faint_detection_newdataset/train/Standing/u472Gdhb90CXZ7v4NIDdjBTOqJ_jpg.rf.ee7513ca41621c5c567bbe51430fedc9.jpg\n",
            "Deleting duplicate image: /content/faint_detection_newdataset/train/Standing/MWR4nsTg7pkcKhB5XH7uB81HDN_jpg.rf.8a2518927ab19194a621821e16f49893.jpg\n",
            "Deleting duplicate image: /content/faint_detection_newdataset/train/Standing/QYSCcgNUV4PqAb2xc5oDyDUq7d_jpg.rf.a8d04eaa0b22bf940de1118f9d1b6f77.jpg\n",
            "Deleting duplicate image: /content/faint_detection_newdataset/train/Standing/7W9Rw9hK71LetY14SEXJudNAR1_jpg.rf.c1d0dea66534c794d4cac5f3fa51b627.jpg\n",
            "Deleting duplicate image: /content/faint_detection_newdataset/train/Standing/VFBPdT9w6CqiK9wdm1YO5HQPoW_jpg.rf.fed14d731241a38b4109ffb303af8eba.jpg\n",
            "Deleting duplicate image: /content/faint_detection_newdataset/train/Standing/eqMFkr39Dq7RbaMGLTpGusMiMX_jpg.rf.58e006f11efa03fc77d1c0cb9ffb2a29.jpg\n",
            "Deleting duplicate image: /content/faint_detection_newdataset/train/Standing/fwZblDsixJ25hJ8tNjuXE0Fg8w_jpg.rf.2a97fe9f88d9af66bbfe86fd36e61637.jpg\n",
            "Deleting duplicate image: /content/faint_detection_newdataset/train/Standing/4kRTEIihspT172jqpZcb9qYb0t_jpg.rf.70264f28b0ffaf247ca9a90a30d60cdb.jpg\n",
            "Deleting duplicate image: /content/faint_detection_newdataset/train/Standing/HOPjTMS6GRQob6BcBS5YXsrWbk_jpg.rf.0ccac39aeefe4118da49a8bd4c3e0a0a.jpg\n",
            "Deleting duplicate image: /content/faint_detection_newdataset/train/Standing/OIEVWxUE71YS6r9XkDUC83PHT1_jpg.rf.883f217741ab5511cb6d4520a8a477e7.jpg\n",
            "Deleting duplicate image: /content/faint_detection_newdataset/train/Standing/rUaVRWOs7O2YQTb6HA0mQTzudW_jpg.rf.c922bed3abe85ce4053483757c7d0954.jpg\n",
            "Deleting duplicate image: /content/faint_detection_newdataset/train/Standing/oanrBUQ5azmvEDCFKX7GDPfVun_jpg.rf.589c4d23794afc1077a84babcd956930.jpg\n",
            "Deleting duplicate image: /content/faint_detection_newdataset/train/Standing/ZZhEBS2NTnKp7cXI5Ohx4Dz61T_jpg.rf.39ba3b9c62d5561937e2640b5c3bb773.jpg\n",
            "Deleting duplicate image: /content/faint_detection_newdataset/train/Standing/uQE5NbyvkzipTudGBPu5zPhVmU_jpg.rf.03fe67f798b26c561816dfc982860c91.jpg\n",
            "Deleting duplicate image: /content/faint_detection_newdataset/train/Standing/lxtsx98tIpSJuGCMPdQ0qmkesg_jpg.rf.2337c049b6fa67a87020d340c4782a9b.jpg\n",
            "Deleting duplicate image: /content/faint_detection_newdataset/train/Standing/tuajDxyaUAG2Gjd8ZvEvIM48OM_jpg.rf.3e7b847ec1a5eccc7bdec11b6a767b5e.jpg\n",
            "Deleting duplicate image: /content/faint_detection_newdataset/train/Standing/QVCsJ2gTveunu5aERdGinlgKoA_jpg.rf.7190d347256197c575d58546d0e446bc.jpg\n",
            "Deleting duplicate image: /content/faint_detection_newdataset/train/Standing/yI4v43R7pQ4XsiFcI5CKMdyVq0_jpg.rf.a869a1865440d9b552fbe290507f0dde.jpg\n",
            "Deleting duplicate image: /content/faint_detection_newdataset/train/Standing/MVMQhABJG8BhuAoTLPjArM1y77_jpg.rf.536154dbc75b536fd6d01aef85fdcfab.jpg\n",
            "Deleting duplicate image: /content/faint_detection_newdataset/train/Standing/os1SOxPA7B30aTjyTmFlQyGKkD_jpg.rf.1fb463cd401928cce912294383ce27ff.jpg\n",
            "Deleting duplicate image: /content/faint_detection_newdataset/train/Standing/JfmhkApEMtR8YPgoNNRB7sLo0n_jpg.rf.a7cc93578f82d65fd0daeb580d34eaad.jpg\n",
            "Deleting duplicate image: /content/faint_detection_newdataset/train/Standing/lmyp7Tbh1E1CtavpfHFldm24te_jpg.rf.44083559d0ce577405ced57315e1a20d.jpg\n",
            "Deleting duplicate image: /content/faint_detection_newdataset/train/Standing/tNNPNPokRZX4THYKJ4FYQYlUBk_jpg.rf.403ddffc0c352462c7d98971a3d1767a.jpg\n",
            "Deleting duplicate image: /content/faint_detection_newdataset/train/Standing/ti6VhqguzmVhQtZoRrJcpNxlpa_jpg.rf.6030e51c719d837ae91ab635235090e3.jpg\n",
            "Deleting duplicate image: /content/faint_detection_newdataset/train/Standing/FprWGXAaMuuxyxcwf5w8txVSJ5_jpg.rf.2cdff2281993a55ea1ac4364168e4056.jpg\n",
            "Deleting duplicate image: /content/faint_detection_newdataset/train/Standing/Nq6RQZmKECE7MaKOF6XMfanrHv_jpg.rf.1072d2230fe5ab663c3449a68121d8e6.jpg\n",
            "Deleting duplicate image: /content/faint_detection_newdataset/train/Standing/UJVWr9zQcXFz4d0XRfR8DyMXEw_jpg.rf.d09afbdd296a6d9cdce6a9bcbd7ddef3.jpg\n",
            "Deleting duplicate image: /content/faint_detection_newdataset/train/Standing/ruseIBock6yaz4ExgmYPq2rcCf_jpg.rf.4eee7ad4183c677ab3410c0f4cd92494.jpg\n",
            "Deleting duplicate image: /content/faint_detection_newdataset/train/Standing/jZGAdmLQyTZPQW03wPf2uUrufp_jpg.rf.e0790819e2109e849675209d5531c2b7.jpg\n",
            "Deleting duplicate image: /content/faint_detection_newdataset/train/Standing/bG12PQ3i4F4C0ztpyXac6WL8c5_jpg.rf.0ed222373f27a8fc9cdeb1e53d84638f.jpg\n",
            "Deleting duplicate image: /content/faint_detection_newdataset/train/Standing/ssBchRagL0zHRIyqgdVUXEUgdU_jpg.rf.c058ed77918bcf85141acc4e7a8bd86a.jpg\n",
            "Deleting duplicate image: /content/faint_detection_newdataset/train/Standing/7CaPKQE5IAFHFlACBijHbh1UNp_jpg.rf.06e63fecfb918070c2fd45a22aa2cf32.jpg\n",
            "Deleting duplicate image: /content/faint_detection_newdataset/train/Standing/UE6i6hZa5lFJHcIDU7BO3xZVfr_jpg.rf.8ce914cd97fd1bdbf972f939340d3e09.jpg\n",
            "Deleting duplicate image: /content/faint_detection_newdataset/train/Standing/EhqiYVWlAUwc1K7fuUyvUBQ4B6_jpg.rf.80c0a7ee34024d82b94dbbf653e72bb7.jpg\n",
            "Deleting duplicate image: /content/faint_detection_newdataset/train/Standing/jmBO1DV3hvOCv7iv5rtpc8D1hg_jpg.rf.937b59e29281290e457dda8402ccc50f.jpg\n",
            "Deleting duplicate image: /content/faint_detection_newdataset/train/Standing/pDGKKsCHVm3jJdUWdw6BYuRVnB_jpg.rf.a0b08a5df61460582377300f558cd11a.jpg\n",
            "Deleting duplicate image: /content/faint_detection_newdataset/train/Standing/aQWZoEqxuLn40ne5wWmGs1W4hG_jpg.rf.397e495b99cae64373ee59ca188a6bd2.jpg\n",
            "Deleting duplicate image: /content/faint_detection_newdataset/train/Standing/dz7GQl1Msmot0gEmLSo88QTc5x_jpg.rf.5808a0d7dde48213401e5f145773c501.jpg\n",
            "Deleting duplicate image: /content/faint_detection_newdataset/train/Standing/NTM3V8QJSm5LyemutTI4u6wUC9_jpg.rf.f24cde235cb1afa2a40a0d460db1b4a1.jpg\n",
            "Deleting duplicate image: /content/faint_detection_newdataset/train/Standing/JEL2RGZw3cgN7iub74hBl4pY7I_jpg.rf.d29c053114ca43bdcf43588d0d1ad61a.jpg\n",
            "Deleting duplicate image: /content/faint_detection_newdataset/train/Standing/ikNLVix7nlMdHbTR14KzPGOuN8_jpg.rf.311cf0e0cfafd56d31a137c6e5a1785f.jpg\n",
            "Deleting duplicate image: /content/faint_detection_newdataset/train/Standing/lj8SSovLnS0fsXZu5RBnnQzIMO_jpg.rf.95efc2fb571791b3c41d6768fb597450.jpg\n",
            "Deleting duplicate image: /content/faint_detection_newdataset/train/Standing/5Qg9mxHDj56JDtABJkItQJZkE1_jpg.rf.a813f5949806dd667aaf2d725631ff29.jpg\n",
            "Deleting duplicate image: /content/faint_detection_newdataset/train/Standing/DQsfiDkIXKqp9EUGDGHg8mPDh6_jpg.rf.2c7b235d7beee524c97168f29287d69a.jpg\n",
            "Deleting duplicate image: /content/faint_detection_newdataset/train/Standing/vwUJZtIWNCllSeuTrjCMbPNPQ8_jpg.rf.86e2508139ffd63e3601c9bec6e7f4f0.jpg\n",
            "Deleting duplicate image: /content/faint_detection_newdataset/train/Standing/abK1UZ6lYAsbzqPdwFiAMXtnc4_jpg.rf.b97a140409883885f4393b878138f3b2.jpg\n",
            "Deleting duplicate image: /content/faint_detection_newdataset/train/Standing/DJWkQnkaR7Sbdacy98QgxdXwEY_jpg.rf.ae89e83a90e9aec35a596a4723a857fd.jpg\n",
            "Deleting duplicate image: /content/faint_detection_newdataset/train/Standing/KI5ayUwOwUxV8IVZjeI1yAUdZ4_jpg.rf.682bbf76f2348a978ea96baf4af04b21.jpg\n",
            "Deleting duplicate image: /content/faint_detection_newdataset/train/Standing/SlKQQgR3eN1UakIhl20B99kgk9_jpg.rf.31a105d75a971c2e243ed28fbf6bd1c1.jpg\n",
            "Deleting duplicate image: /content/faint_detection_newdataset/train/Standing/BZLatnhYoqjH9Lx4p7e9JYR3KI_jpg.rf.dcb2b66795bc8c74a23837765163d753.jpg\n",
            "Deleting duplicate image: /content/faint_detection_newdataset/train/Standing/TE9B42vzC2NUbRB1W4Bvy1VbYY_jpg.rf.b211e73e587551e6e0328ff4e5b6c79a.jpg\n",
            "Deleting duplicate image: /content/faint_detection_newdataset/train/Standing/9M4TwwpSthVOWBKeKUd5TF8pvk_jpg.rf.68cabf616094b35231fcee59b79ed71d.jpg\n",
            "Deleting duplicate image: /content/faint_detection_newdataset/train/Standing/M7ohlI2skb728JA2JZjkFYhHai_jpg.rf.7fbfddc10aa2024f9cb425504713b956.jpg\n",
            "Deleting duplicate image: /content/faint_detection_newdataset/train/Standing/cZa4pnEFt7e1BtOqPjkHqM90bc_jpg.rf.a955842c811ff69048462b01a0d987f7.jpg\n",
            "Deleting duplicate image: /content/faint_detection_newdataset/train/Standing/tnUQXzHXyAmzJwzkVdvmJqZhaX_jpg.rf.0dc8af5763df1b3f639a6f6d3cb6c4c0.jpg\n",
            "Deleting duplicate image: /content/faint_detection_newdataset/train/Standing/rlcEsHnuKhDanN4qvLIVKw8HPQ_jpg.rf.b2719c85e02a116e2adbdaaf1196499c.jpg\n",
            "Deleting duplicate image: /content/faint_detection_newdataset/train/Standing/I8O8M8nTAYaayBAXGAk4MTv5Yf_jpg.rf.1e279d29c80945d8c2a94511cd62729b.jpg\n",
            "Deleting duplicate image: /content/faint_detection_newdataset/train/Standing/mSvDVY82eDKmac9IDJITt8QA8S_jpg.rf.da20fb886e06d63d95c895619ced2337.jpg\n",
            "Deleting duplicate image: /content/faint_detection_newdataset/train/Standing/2y0bPfYBHzXTaAVk9XW5kRqyyw_jpg.rf.c0e6381110c6cccee8f112d386587284.jpg\n",
            "Deleting duplicate image: /content/faint_detection_newdataset/train/Standing/Pk3SyAUhzlbaChkWU4GDGjs7Z4_jpg.rf.6e5c4ab316547a9fe2d8f094871562c0.jpg\n",
            "Deleting duplicate image: /content/faint_detection_newdataset/train/Standing/FmSLqwmwvjq6URB4yQDuX2OrRz_jpg.rf.d46dc2a0666a8e563e981bebdeba7807.jpg\n",
            "Deleting duplicate image: /content/faint_detection_newdataset/train/Standing/wF1CuuE2YlFCIrQ6iPWG2rLNCW_jpg.rf.3a5ae0151a60b9ebd2be25d9224b2d12.jpg\n",
            "Deleting duplicate image: /content/faint_detection_newdataset/train/Standing/N8QOJYXcJ2yosBM8BlbuSjKJ4e_jpg.rf.b2916700aca7bf632be46e4de0a7d1cc.jpg\n",
            "Deleting duplicate image: /content/faint_detection_newdataset/train/Standing/ZReiD7nj2LBGn19fIyWXpXoVsJ_jpg.rf.dda2c46d985aa9733c59b176fcb6ff09.jpg\n",
            "Deleting duplicate image: /content/faint_detection_newdataset/train/Standing/uOG8vA5c35p53GY8FHW1zTY3bv_jpg.rf.cf9df89108a8a7d11896592711554ea9.jpg\n",
            "Deleting duplicate image: /content/faint_detection_newdataset/train/Standing/9yYkIB3HAuy3ixizsKMhScF814_jpg.rf.cf4712a418670b240812e17042357ba3.jpg\n",
            "Deleting duplicate image: /content/faint_detection_newdataset/train/Standing/IQRZeKAnx99DGKAwsU1AF85fJq_jpg.rf.b2fb41990de7246a6567b9da539a058d.jpg\n",
            "Deleting duplicate image: /content/faint_detection_newdataset/train/Standing/rauVK7GQjmHu1KE7m5rFSNUAPV_jpg.rf.7e68c611a3790bd9ce3a2e0661a3a698.jpg\n",
            "Deleting duplicate image: /content/faint_detection_newdataset/train/Standing/yBCRoL61TIDtMoa7fJZhsi6rTU_jpg.rf.e4c3ed1a29e51c751b88771cc7237888.jpg\n",
            "Deleting duplicate image: /content/faint_detection_newdataset/train/Standing/V6V5D1FOrE8keJriLwLMkk5Y4f_jpg.rf.d01e6bae1661dc0bd38f7038abffaeae.jpg\n",
            "Deleting duplicate image: /content/faint_detection_newdataset/train/Standing/dAEz5zdU3a2q7NMc6FzHXQFdYq_jpg.rf.2e8863c4243277de52125e76e88b8e13.jpg\n",
            "Deleting duplicate image: /content/faint_detection_newdataset/train/Standing/6ppucvGSU2jBrI9dWtYaRIBnmZ_jpg.rf.5c41b142653814487331596ce8a105ae.jpg\n",
            "Deleting duplicate image: /content/faint_detection_newdataset/train/Standing/pkBK3jGrfguIH4iy9lwk4S5PWU_jpg.rf.2c7877602142a6846315060f5cd99212.jpg\n",
            "Deleting duplicate image: /content/faint_detection_newdataset/train/Standing/gmpLtUAwwcTUWYDFwpeZeuXaQ2_jpg.rf.fba19d07587c9d7b5df42c990cd80396.jpg\n",
            "Deleting duplicate image: /content/faint_detection_newdataset/train/Standing/VskLbYP1PaqGR66fB6ab3Bt4hf_jpg.rf.2b08159fba5dc52d39d5405abc9c3a61.jpg\n",
            "Deleting duplicate image: /content/faint_detection_newdataset/train/Standing/GgGC6Oig1AEN0zGyHXCXq1x8eS_jpg.rf.20e64938c8b77ad342ab5f57cc9823c1.jpg\n",
            "Deleting duplicate image: /content/faint_detection_newdataset/train/Standing/BuzEeJIQ3juczV06qrYcLOyRaE_jpg.rf.df1bb4318f05c21dbd21fad3c10f7e1a.jpg\n",
            "Deleting duplicate image: /content/faint_detection_newdataset/train/Standing/Y6rsgCI34HF9bEroBWuJWNUoBG_jpg.rf.37326f9d01f66143d2a3543b070a0808.jpg\n",
            "Deleting duplicate image: /content/faint_detection_newdataset/train/Standing/Y5yAv30dQDGcsUxCS9jdiXtJXO_jpg.rf.a82f5178da529bc1599a313289fc8433.jpg\n",
            "Deleting duplicate image: /content/faint_detection_newdataset/train/Standing/rhsUWfpL6OkqJcTcm2c2KcebnA_jpg.rf.db4c83402a4b9277f1287e7bd0487fc4.jpg\n",
            "Deleting duplicate image: /content/faint_detection_newdataset/train/Standing/ELebl1E4NbUeWCfPomkFLLgtYP_jpg.rf.a13e673927ff4c28e0225e9df7df3cb7.jpg\n",
            "Deleting duplicate image: /content/faint_detection_newdataset/train/Standing/KKe1eAeUV8MO9W0n9f2KR4yrk6_jpg.rf.b5edd126cd0429ee9d5934d031c32cac.jpg\n",
            "Deleting duplicate image: /content/faint_detection_newdataset/train/Standing/eIJyj2Mt317PgPke2a3ktibW0p_jpg.rf.4b2d116bf390aec4442c15108369b242.jpg\n",
            "Deleting duplicate image: /content/faint_detection_newdataset/train/Standing/fQXSi6jaHp9p4OqxJqJT9LoJRR_jpg.rf.bcbd1f72e6c942ffa766f53abe87835e.jpg\n",
            "Deleting duplicate image: /content/faint_detection_newdataset/train/Standing/3oO0q6Af02sB5pdJP5raaopC3o_jpg.rf.d771972796f7308d89173617d4fd43af.jpg\n",
            "Deleting duplicate image: /content/faint_detection_newdataset/train/Standing/PPC7l1FwRK07ndAWZUdQTL27hq_jpg.rf.904ce70ea266e129eac120be1de55497.jpg\n",
            "Deleting duplicate image: /content/faint_detection_newdataset/train/Standing/AxEblmMpxfmCyytRohX24yb54T_jpg.rf.6160872cdeb78f1facefef2e785e8ea3.jpg\n",
            "Deleting duplicate image: /content/faint_detection_newdataset/train/Standing/j3HmQT6Pb7dkc1h2QsenfwORm4_jpg.rf.df8db1748d5324c14b4d27550ea34c8c.jpg\n",
            "Deleting duplicate image: /content/faint_detection_newdataset/train/Standing/Jt9tcJNkDbSqF2rsxmshty2zvC_jpg.rf.f8b6df17e0fa69e588a90648db1314ec.jpg\n",
            "Deleting duplicate image: /content/faint_detection_newdataset/train/Standing/sleNY4Kw0n0QUoCjw0A4V1UjX1_jpg.rf.666b392b5327a4ffcf6a4f6058e2d9fb.jpg\n",
            "Deleting duplicate image: /content/faint_detection_newdataset/train/Standing/9FK3lE8mJR88sOUt181ThAkHNF_jpg.rf.b52b2016535243ba39d12e24238bebf9.jpg\n",
            "Deleting duplicate image: /content/faint_detection_newdataset/train/Standing/MAdLlM389pn0RCqABdw4ncM0KH_jpg.rf.78f4900b0894a28cd3f42b8dd195b179.jpg\n",
            "Deleting duplicate image: /content/faint_detection_newdataset/train/Standing/M7ewbNuzkgNmDYwUnVUj18lmph_jpg.rf.df8126e85c1d484a8c9c19e1edd9f6ea.jpg\n",
            "Deleting duplicate image: /content/faint_detection_newdataset/train/Standing/grqo3i6KjsSdDBDAlt58JLe7s7_jpg.rf.98cd88206bb665110ccd7fd7babf1e12.jpg\n",
            "Deleting duplicate image: /content/faint_detection_newdataset/train/Standing/rHpl3PTa75QYC1LuSbTyCfR245_jpg.rf.0b5caa73cf328d8b49a0bec7fda2fd80.jpg\n",
            "Deleting duplicate image: /content/faint_detection_newdataset/train/Standing/0AnghL6tm3Pbg4cRontwYwCryt_jpg.rf.792e17bb50f06ac7e1a529cf086f5a74.jpg\n",
            "Deleting duplicate image: /content/faint_detection_newdataset/train/Standing/qEqRFxwKRqXd1fk3328jyfbkfJ_jpg.rf.efa9ea2196a52f34621a767a0177c1a6.jpg\n",
            "Deleting duplicate image: /content/faint_detection_newdataset/train/Standing/G091MydEi7bUAYEoowMukao6KG_jpg.rf.e90bbaabf3ceec932f6a43feefb6e3f7.jpg\n",
            "Deleting duplicate image: /content/faint_detection_newdataset/train/Standing/GbfHL3Z9kAorhJjE3ye4FO1mO4_jpg.rf.6c89108ed3e409be8d15acd05dd1d7b1.jpg\n",
            "Deleting duplicate image: /content/faint_detection_newdataset/train/Standing/8eGROpXLBRIAx9RRQXpNjdzB4a_jpg.rf.971c7b04ed78160a7753c7af7c0516fa.jpg\n",
            "Deleting duplicate image: /content/faint_detection_newdataset/train/Standing/kF4CmTwkDr83Q5QR1UteLTSiDW_jpg.rf.6c8f6023a6b998cbad5fa335cf9b480e.jpg\n",
            "Deleting duplicate image: /content/faint_detection_newdataset/train/Standing/GIY0gJRkxhfxSTjoQYGjaJ0Q7P_jpg.rf.39fff3dfa4e43f2ee5c9f1c8bc3f3f3d.jpg\n",
            "Deleting duplicate image: /content/faint_detection_newdataset/train/Standing/cUChc66dvNvX7k39qG0pL3ao63_jpg.rf.a4cd06ed707f184d08f6703419ad69ea.jpg\n",
            "Deleting duplicate image: /content/faint_detection_newdataset/train/Standing/8H2rSUjw4iPDjlLiHKHBmE3Jr4_jpg.rf.ec2a60e51c6089db5d05d4ac9e699811.jpg\n",
            "Deleting duplicate image: /content/faint_detection_newdataset/train/Standing/2ZQXYMEogWckuhC7Ftl8QHi190_jpg.rf.1b09acbcfbb17b6a0f54c569e6b934f7.jpg\n",
            "Deleting duplicate image: /content/faint_detection_newdataset/train/Standing/GUDXxdIvw0LgvZMXMpxn9Nebeb_jpg.rf.fadc38e62706f1ff35d0a97be48431fc.jpg\n",
            "Deleting duplicate image: /content/faint_detection_newdataset/train/Standing/mf7xYdS3q6IXT4iYL6DXkrOu5l_jpg.rf.f7c814e5665aad6a4333e2552ae7b45d.jpg\n",
            "Deleting duplicate image: /content/faint_detection_newdataset/train/Standing/7CaEj29ILXVQcLh2sfj9ITkAvF_jpg.rf.a16a121db703589d7bc51f5cfc4f2b0b.jpg\n",
            "Deleting duplicate image: /content/faint_detection_newdataset/train/Standing/jJQMb8jPfNEZYRKAdfw5UIGEj2_jpg.rf.7dc1ec777a7d5e5dc7134ad5066a956b.jpg\n",
            "Deleting duplicate image: /content/faint_detection_newdataset/train/Standing/BDf4iWOaoqqn4Bx77Tt5rnmXcN_jpg.rf.017beaa3e8fe11e77f50324463589a61.jpg\n",
            "Deleting duplicate image: /content/faint_detection_newdataset/train/Standing/lJ9EsVJ5eoqGR5tVkWbLY76QzA_jpg.rf.18b847b7b73db26b9c2a56912c12d5f6.jpg\n",
            "Deleting duplicate image: /content/faint_detection_newdataset/train/Standing/6VrHpp6qjDwk4o2DIc6zHoSOd4_jpg.rf.81901919a26dc81d14177de80bb99d4c.jpg\n",
            "Deleting duplicate image: /content/faint_detection_newdataset/train/Standing/6Adhhh9UEWVI63ZUO6W1KDNT0O_jpg.rf.ff3ef8fef85637251759d29d77f6f4b8.jpg\n",
            "Deleting duplicate image: /content/faint_detection_newdataset/train/Standing/zRg2XqFpqoU5DaNFf6oGEyjZRq_jpg.rf.88b3fdd2dd5847f3973d97932b8b8766.jpg\n",
            "Deleting duplicate image: /content/faint_detection_newdataset/train/Standing/2iO4BeP8Ug2Fu7Rh4YayvXupsl_jpg.rf.dfa575cebb39ea22c5c0a5ab17db0979.jpg\n",
            "Deleting duplicate image: /content/faint_detection_newdataset/train/Standing/bi5KTKvAQ7GRVPcfX5n2ypykIM_jpg.rf.f2486c2f609d435bf3c701b427d43848.jpg\n",
            "Deleting duplicate image: /content/faint_detection_newdataset/train/Standing/hQk6XygkMqpogl5NL976O4CNAm_jpg.rf.b5764e131ebf2189f1e94202b4eec8fe.jpg\n",
            "Deleting duplicate image: /content/faint_detection_newdataset/train/Standing/33Amj3qqACkdvV15lmQIufhIuu_jpg.rf.7c3f0f031e4d7a067b57d9ea6c25086f.jpg\n",
            "Deleting duplicate image: /content/faint_detection_newdataset/train/Standing/KuWsgisW3PaufsOPKsk666Y0vG_jpg.rf.142a18591043a087bcb4b929a3d96ddd.jpg\n",
            "Deleting duplicate image: /content/faint_detection_newdataset/train/Standing/6jVX3S3uE6D0c74sOj0nSdaXmj_jpg.rf.120993b3f5bca05f962ea4c79aeb145d.jpg\n",
            "Deleting duplicate image: /content/faint_detection_newdataset/train/Standing/FCsiOKxJVX3QXGwE7ilrztP1V0_jpg.rf.b9a3afdb19b05e438a2ad323161cd0ed.jpg\n",
            "Deleting duplicate image: /content/faint_detection_newdataset/train/Standing/aFLeaLa84O9XZakwr6X3aSLqFu_jpg.rf.27f12ea95549002964b7e18a38464361.jpg\n",
            "Deleting duplicate image: /content/faint_detection_newdataset/train/Standing/qzSpLXUUjVLy9lPuBAdJsm7HfP_jpg.rf.92d799f27f63d3973954e648708eccbb.jpg\n",
            "Deleting duplicate image: /content/faint_detection_newdataset/train/Standing/TRtucxTJwZ8Zha5bS5bweQjVLI_jpg.rf.07a4c62ef2e73b854336eab8f2d96cd3.jpg\n",
            "Deleting duplicate image: /content/faint_detection_newdataset/train/Standing/bAHcnmgh5M38RwXLEtc6rkujut_jpg.rf.dc453191c22ce8c36721d12579f6f1c3.jpg\n",
            "Deleting duplicate image: /content/faint_detection_newdataset/train/Standing/SnznxDKtirGHEqTfDg33eDrh3w_jpg.rf.44062fe0a640c1a7f657ec2737d13c3a.jpg\n",
            "Deleting duplicate image: /content/faint_detection_newdataset/train/Standing/oLw3yvt5UpnVNCK2AY9AllGMJG_jpg.rf.6e6d6efc816d38363c0124e104a5c71c.jpg\n",
            "Deleting duplicate image: /content/faint_detection_newdataset/train/Standing/LkJU3t03DXG2Pvdtrq1GT9MCpx_jpg.rf.04e322c5e13b576b982d7fe598f039e5.jpg\n",
            "Deleting duplicate image: /content/faint_detection_newdataset/train/Standing/iCNtYaPVFRagF3PbGTH74Td06H_jpg.rf.138802435c0fb6f5971adf5832496802.jpg\n",
            "Deleting duplicate image: /content/faint_detection_newdataset/train/Standing/ULyrUmN6URw2j2Jxxcwh6BC7Df_jpg.rf.e4a6caaa19e83cce5299d9487a6d4889.jpg\n",
            "Deleting duplicate image: /content/faint_detection_newdataset/train/Standing/5mjF8fA7qZDI4T0fBPEUV3TiLQ_jpg.rf.c913f270005d7da78474b637ac534e2b.jpg\n",
            "Deleting duplicate image: /content/faint_detection_newdataset/train/Standing/MsmgbAQ6yT1yUPIs49gU2UH7T5_jpg.rf.fc4046cba6590a28810ce26ae782afcd.jpg\n",
            "Deleting duplicate image: /content/faint_detection_newdataset/train/Standing/gFGgHTEkAy7oj6UCprmOBBnDdq_jpg.rf.4ecef691ef9e85a4268f58a6c55e36a0.jpg\n",
            "Deleting duplicate image: /content/faint_detection_newdataset/validate/Standing/1FxH1iEu1MFsyUaP4LI73fEwXc_jpg.rf.ea08d3c37583b236d50df83dbc1d75d4.jpg\n",
            "Deleting duplicate image: /content/faint_detection_newdataset/validate/Standing/H0GTqgMpRA0ABeNHxQQIfknVnc_jpg.rf.358b63f69211bb6fa64b5f3f006c73c4.jpg\n",
            "Deleting duplicate image: /content/faint_detection_newdataset/validate/Standing/Tgl0eDn3UgKM9GScOyeskcEPD2_jpg.rf.7e3bf43614b201a7412f06220ecf10a8.jpg\n",
            "Deleting duplicate image: /content/faint_detection_newdataset/validate/Standing/sQlfpGhsNk4T42T9BhQy8q1PAi_jpg.rf.93e379e42dbb95e9be4b7b9b862fe7fa.jpg\n",
            "Deleting duplicate image: /content/faint_detection_newdataset/validate/Standing/D6G3i1cBHidFlt7dy1iPh8fBox_jpg.rf.0148df7ac263736017c4103aa90043d9.jpg\n",
            "Deleting duplicate image: /content/faint_detection_newdataset/validate/Standing/VgTMPhJolykz2uQRvkmyvdIGTb_jpg.rf.cf2460248ea8ec4498195777f6e69ad7.jpg\n",
            "Deleting duplicate image: /content/faint_detection_newdataset/validate/Standing/PpvdF7w7BPvyxSmvXViHqLeqZc_jpg.rf.ad432d176cb1f12f2d82bf73964988d9.jpg\n",
            "Deleting duplicate image: /content/faint_detection_newdataset/validate/Standing/Xf9ZG3suDcMw9r2Hef0UtobRre_jpg.rf.44bd772ca2e74dd35adec725b4c3ecc3.jpg\n",
            "Deleting duplicate image: /content/faint_detection_newdataset/validate/Standing/kZTFBr63oPkIhWIEBb9TRhpsNT_jpg.rf.89d455aca756f8765c693516b85ad99b.jpg\n",
            "Deleting duplicate image: /content/faint_detection_newdataset/validate/Standing/Bs8XEk53ILDEMVU3LhBHvBX0Vn_jpg.rf.58daa38a8cf85a4dafcd3b3da1ff7e7b.jpg\n",
            "Deleting duplicate image: /content/faint_detection_newdataset/validate/Standing/bB2pgf4Ru5SHSDV9452lmqx6x1_jpg.rf.7ed2ee4a85142f3bf139dbea217e6f3a.jpg\n",
            "Deleting duplicate image: /content/faint_detection_newdataset/validate/Standing/JfonQF95cZ6bUbLPwDdkG6GA0c_jpg.rf.a4c27a20b260b5075a107e12ec65f032.jpg\n",
            "Deleting duplicate image: /content/faint_detection_newdataset/validate/Standing/Ru5PLymabADpNVaouKot5IKoAy_jpg.rf.5323d61ff3d42c788170fc729a94a693.jpg\n",
            "Deleting duplicate image: /content/faint_detection_newdataset/validate/Standing/llczSUFCExw7bKEIZvj1Kxrt21_jpg.rf.acbc2f19afc98216cc8872a0afeed6a2.jpg\n",
            "Deleting duplicate image: /content/faint_detection_newdataset/validate/Standing/UsBENLMlqUSOXFFwcEsLQ3J7no_jpg.rf.61926eb08250efc399334da4b0f55571.jpg\n",
            "Deleting duplicate image: /content/faint_detection_newdataset/validate/Standing/LPhJjp06lpUWMHQYjQ518r0ZUH_jpg.rf.0457abd81c56b561bc42d5e7fdf5517a.jpg\n",
            "Deleting duplicate image: /content/faint_detection_newdataset/validate/Standing/8yPpQ1RJ6NvZgYzy2pl29Y90AI_jpg.rf.14549ddaddf1422e081fea54c03d0661.jpg\n",
            "Deleting duplicate image: /content/faint_detection_newdataset/validate/Standing/07Fve6uEDTmxuVT3Y1QWaaQEiv_jpg.rf.2f69dbd59c030443f2eb7f584e4d095d.jpg\n",
            "Deleting duplicate image: /content/faint_detection_newdataset/validate/Standing/eOOn0x6AcY8J2yNk1QNc3AQSU2_jpg.rf.7410e34491320dc2644fb1c10cbda2e6.jpg\n",
            "Deleting duplicate image: /content/faint_detection_newdataset/validate/Standing/XXH0dHFBtEYOxTyjJGV45sNxdE_jpg.rf.db460f3dd5c73fc0a07ef036f25a8408.jpg\n",
            "Deleting duplicate image: /content/faint_detection_newdataset/validate/Standing/sazHKKfPS0P6tEWFB5jFEC03gc_jpg.rf.ee8882d34f58fa615857e19ff2b6ac92.jpg\n",
            "Deleting duplicate image: /content/faint_detection_newdataset/validate/Standing/YjjJYXxLVfKAEvgYptooj8tlGd_jpg.rf.191df21608803499f075f6d3134e17b6.jpg\n",
            "Deleting duplicate image: /content/faint_detection_newdataset/validate/Standing/Qoo503BOPmisNHGYC1X8jNd3Is_jpg.rf.fdf2baf65968399c34d75b330d5457c4.jpg\n",
            "Deleting duplicate image: /content/faint_detection_newdataset/validate/Standing/Fqc8arjQxFmim4FSFH1cQm45JS_jpg.rf.eff55c138e082b70a116299e8e45bf18.jpg\n",
            "Deleting duplicate image: /content/faint_detection_newdataset/validate/Standing/gZC8t4wMB0PQjs5LDxbyORjuS3_jpg.rf.92d8235ddf5f334e0228a8aac31dcea6.jpg\n",
            "Deleting duplicate image: /content/faint_detection_newdataset/validate/Standing/ywx307ndLKN6j0pGx4OuPgl7rm_jpg.rf.3ddcc20178a0ff37aed9573da1a73503.jpg\n",
            "Deleting duplicate image: /content/faint_detection_newdataset/validate/Standing/1qptJ9PuzkVMURIuWX4y6MgfCY_jpg.rf.37d7f304d8e4fb7eddbde4587ca1d110.jpg\n",
            "Deleting duplicate image: /content/faint_detection_newdataset/validate/Standing/3YBADlDti6mNMZ528UliBEd0oc_jpg.rf.698fe20b55d7eee8853e63c05477a938.jpg\n",
            "Deleting duplicate image: /content/faint_detection_newdataset/validate/Standing/be4WuiQwxda8uwgfj6YtmlKBB3_jpg.rf.2169afc790c481b96341715d544e1b40.jpg\n",
            "Deleting duplicate image: /content/faint_detection_newdataset/validate/Standing/mpWzBooIrse23nxqSJicyVaonc_jpg.rf.78a24883b6e56b2e676d7c1e323ba8a5.jpg\n",
            "Deleting duplicate image: /content/faint_detection_newdataset/validate/Standing/J2Wd6ijDLDRCs1HIBAxwttFFTF_jpg.rf.49c6d2b43fc25cf92e0921a2f55fb9ed.jpg\n",
            "Deleting duplicate image: /content/faint_detection_newdataset/validate/Standing/2W71sNLiRsvMs9p2s8MX2OKgls_jpg.rf.f8bc832bbf7f959ec85d42736856307e.jpg\n",
            "Deleting duplicate image: /content/faint_detection_newdataset/validate/Standing/9MmCH9ZqO7ZAJkLKHhNFY5PP5g_jpg.rf.a4d5b9a391323d0c13db7f94a4f432a8.jpg\n",
            "Deleting duplicate image: /content/faint_detection_newdataset/validate/Standing/GFhHkq7ZvDs8kPCjU1X5cFnQaI_jpg.rf.fe3db81f523c38c7aaa4b6c51fe44d9f.jpg\n",
            "Deleting duplicate image: /content/faint_detection_newdataset/validate/Standing/cCOC15Lk49AAtodOKUf3F8PI2T_jpg.rf.b815c6e2cbeb4c3542125ccd020320e7.jpg\n",
            "Deleting duplicate image: /content/faint_detection_newdataset/validate/Standing/k01yLlX7XZaRTcWzHiLTPdyOv3_jpg.rf.20d5af1afb21aea49b287dad1fd32082.jpg\n",
            "Deleting duplicate image: /content/faint_detection_newdataset/validate/Standing/CSFsWwKjb19AE7nRmnIKlsjjkG_jpg.rf.f5a94e2f07eb212559085ee39e8dc4e0.jpg\n",
            "Deleting duplicate image: /content/faint_detection_newdataset/validate/Standing/cajufSE51Zf33SZDRnxZRx7xQU_jpg.rf.8dee898bd8daa17828d8bca872b6f983.jpg\n",
            "Deleting duplicate image: /content/faint_detection_newdataset/validate/Standing/1IqH1U8dNEeG4kjYswFicbyuXk_jpg.rf.2c649af565a92103c3b2029933075e39.jpg\n",
            "Deleting duplicate image: /content/faint_detection_newdataset/validate/Standing/gNC6pIjbhmj9EuKsFDN516pVK6_jpg.rf.2c72e006ad06d7357ee684591514b031.jpg\n",
            "Deleting duplicate image: /content/faint_detection_newdataset/validate/Standing/KcGpUWoefQo0H4UUAUpWMgv90A_jpg.rf.7c80cce0c177beee16b36951f2b943a9.jpg\n",
            "Deleting duplicate image: /content/faint_detection_newdataset/validate/Standing/LLBk5xs7pirJ95BnPgcZLL6eYV_jpg.rf.336bb447bed5cbd28dd5bc218b0c5f01.jpg\n",
            "Deleting duplicate image: /content/faint_detection_newdataset/validate/Standing/Nx1KHhYGqRjN52LwYeCUuKyjXE_jpg.rf.f09fc6782002e957a77f3f545f669340.jpg\n",
            "Deleting duplicate image: /content/faint_detection_newdataset/validate/Standing/zDEsb0VU2qg1WZXT8gS5CzhCqz_jpg.rf.a7727cffd92db708422c2e58f36eab79.jpg\n",
            "Deleting duplicate image: /content/faint_detection_newdataset/validate/Standing/fzoUawc3xX7P9vmWjxs5jkvRvn_jpg.rf.77f1de28dedf7bacfa3111eab5c50fd9.jpg\n",
            "Deleting duplicate image: /content/faint_detection_newdataset/validate/Standing/wAIlGuc10PO98koG1uJzmiLVDq_jpg.rf.a3a7dbfbde2ede76b479ad66b51d1e0b.jpg\n",
            "Deleting duplicate image: /content/faint_detection_newdataset/validate/Standing/e92aOyA7DI78dkYqP2tr9XMKMS_jpg.rf.5ce2bc7aa34d88ac3113899a9a3e5579.jpg\n",
            "Deleting duplicate image: /content/faint_detection_newdataset/validate/Standing/lU9rcZ7oN9W2EOptCQIklgwZSX_jpg.rf.97b0687925062a00816a617d2c4bc52a.jpg\n",
            "Deleting duplicate image: /content/faint_detection_newdataset/validate/Standing/RPiZZtCbm9YO1uV2A9pooEC3W3_jpg.rf.fc1715917498dd5ff407ef7b53f64c61.jpg\n",
            "Deleting duplicate image: /content/faint_detection_newdataset/validate/Standing/AmxDjsme0zietAI22NGjTh7jqv_jpg.rf.a70f406da9c2f2b4166ce5741e1cfd18.jpg\n",
            "Deleting duplicate image: /content/faint_detection_newdataset/validate/Standing/02JqvjLtsD8Git5xLWtlVi4Kdh_jpg.rf.e93c4413380db4e4262d532cae73092c.jpg\n",
            "Deleting duplicate image: /content/faint_detection_newdataset/validate/Standing/Z74SeZfKB2Dq3jj7ZqbAgOcmZC_jpg.rf.a85336ef17f5461d59f6ef2e8e33f732.jpg\n",
            "Deleting duplicate image: /content/faint_detection_newdataset/validate/Standing/9E1aT9Y8IjOdAR0SnigqvgLRGX_jpg.rf.5f3942aafe403a22b800078337a91aed.jpg\n",
            "Deleting duplicate image: /content/faint_detection_newdataset/validate/Standing/u5WMyBzI52BrWblt9zU6v0eMZQ_jpg.rf.6bfdf65119ec831fe67efe68e48405e8.jpg\n",
            "Deleting duplicate image: /content/faint_detection_newdataset/validate/Standing/x5T1xIDn9bAXORPWozIplJeDSg_jpg.rf.aa24d6340ee4ce66c2f3923fb701e82f.jpg\n",
            "Deleting duplicate image: /content/faint_detection_newdataset/validate/Standing/JX7211k7NXTR8EcfE0Er9jGPUe_jpg.rf.de0d5979b7c5b38b526042ad85fb97f6.jpg\n",
            "Deleting duplicate image: /content/faint_detection_newdataset/validate/Standing/WmYuNlAyfqIUcMJUU4R58UpEz6_jpg.rf.088ce123df40fe54fd52ab5dd946be9b.jpg\n",
            "Deleting duplicate image: /content/faint_detection_newdataset/validate/Standing/U3xK83YAbQwRG8p3WHvUU7BXIc_jpg.rf.1a04026453ead6ec4314565b1d1556fc.jpg\n",
            "Deleting duplicate image: /content/faint_detection_newdataset/validate/Standing/SFSCRuzwPZIzNLvrVq5Jusf3hr_jpg.rf.f13ef3b7b96f51ba95d8c0be6503726e.jpg\n",
            "Deleting duplicate image: /content/faint_detection_newdataset/validate/Standing/oR2Ovdk6T1oZUSvFawCFAL1yJv_jpg.rf.ef5ffc21b99a3a158a424eee078669fb.jpg\n",
            "Deleting duplicate image: /content/faint_detection_newdataset/validate/Standing/au3qquIB73m3h0z7bIHbed0ifS_jpg.rf.4ac0ea1c0f88a4a68af09ba96323a06e.jpg\n",
            "Deleting duplicate image: /content/faint_detection_newdataset/validate/Standing/Foi4dcxwgZqa1hjBltnDIYtDFK_jpg.rf.be4d30cafbcc83fcf5bfd846f4c2f080.jpg\n",
            "Deleting duplicate image: /content/faint_detection_newdataset/validate/Standing/q7zqcDZNaIIpLRrNHEmoQW5Otg_jpg.rf.d6b63b7f1e1ea7a3c5c2db2e1ace35a9.jpg\n",
            "Deleting duplicate image: /content/faint_detection_newdataset/validate/Standing/66TreRZC9YeLxwigLciJ8hSVH5_jpg.rf.5c0b2ce4f690a02c17c160e57f36cc6a.jpg\n",
            "Deleting duplicate image: /content/faint_detection_newdataset/validate/Standing/Yh3O2RyH6y9fm36Cxul7FMCFVc_jpg.rf.7d35c5ba91df130ced5104b4b2a5c6d5.jpg\n",
            "Deleting duplicate image: /content/faint_detection_newdataset/validate/Standing/Yi19T6clUn8kcPSkhn4nge30Rx_jpg.rf.8908a907a2246960aa3941a8370a92e0.jpg\n",
            "Deleting duplicate image: /content/faint_detection_newdataset/validate/Standing/zIgq68xc7sXoRQYi9X3rK6eszL_jpg.rf.0d0137a48e1196475588e1b7adf303bd.jpg\n",
            "Deleting duplicate image: /content/faint_detection_newdataset/validate/Standing/2xVdv5o0vgbrifhL70GwrXU0pA_jpg.rf.f571814892cc5f48047e3a5b88cdb158.jpg\n",
            "Deleting duplicate image: /content/faint_detection_newdataset/validate/Standing/INaX3VWNZk3indMMWpr9Qi4AS1_jpg.rf.405fee040b89bce625c4c1a314ac2eeb.jpg\n",
            "Deleting duplicate image: /content/faint_detection_newdataset/validate/Standing/AuL3NIDJBl1oXP8D689872dno8_jpg.rf.8dd36902751a5eb78a362a0c9cf6d811.jpg\n",
            "Deleting duplicate image: /content/faint_detection_newdataset/validate/Standing/UQZ2u9x4sHJr1utaDn1RESsw3X_jpg.rf.9964332cb81542bc8a5761f6173c40a5.jpg\n",
            "Deleting duplicate image: /content/faint_detection_newdataset/validate/Standing/SPayWAVvDtbvid3PqhEufXIcyN_jpg.rf.6f7c5d82db6368b5fe06155f9a539c65.jpg\n",
            "Deleting duplicate image: /content/faint_detection_newdataset/validate/Standing/2crxOe4Qoc9XaGIQRH39o5R08y_jpg.rf.5e2d5da379a72db8397bb78f449ddbb7.jpg\n",
            "Deleting duplicate image: /content/faint_detection_newdataset/validate/Standing/flRVJkteDrJvEeA1aUpd2Rabus_jpg.rf.ba021f6fc1c982603b4c57e0b5099499.jpg\n",
            "Deleting duplicate image: /content/faint_detection_newdataset/validate/Standing/8HhVznvyRWMY1Ynpt3iplaHCzN_jpg.rf.0be467deead1cf825e8f282123936957.jpg\n",
            "Deleting duplicate image: /content/faint_detection_newdataset/validate/Standing/lIh3EAWAktFeHRU3fmiOi28HE5_jpg.rf.d25a9b97d26def1a0e43de313375f0c9.jpg\n",
            "Deleting duplicate image: /content/faint_detection_newdataset/validate/Standing/KY0lVNcpwHbApOD0mMu0INn7FN_jpg.rf.d885080e10ad472cb1e80ed5fe7329d4.jpg\n",
            "Deleting duplicate image: /content/faint_detection_newdataset/validate/Standing/VKXCksZrJb4umxNMsssib1ff7p_jpg.rf.f93bd8d0ab7eb5332f33b6436fcb0da0.jpg\n",
            "Deleting duplicate image: /content/faint_detection_newdataset/validate/Standing/a6ltrTLUajicvXQiF5SxWCT7XV_jpg.rf.33dc36d386394a5f0b9b67813be66f48.jpg\n",
            "Deleting duplicate image: /content/faint_detection_newdataset/validate/Standing/NtDzRKxI0IHot0444FNmRBWL26_jpg.rf.8b7c91901c557ffb3af186a392e6ca0f.jpg\n",
            "Deleting duplicate image: /content/faint_detection_newdataset/validate/Standing/M4McYWEw8v6zrKlUwjrQv81TMU_jpg.rf.599fbd1c914603f71f801c65a1b554b4.jpg\n",
            "Deleting duplicate image: /content/faint_detection_newdataset/validate/Standing/EOuaMCfMTwN2H2fhU0M9VocCO8_jpg.rf.c7ef974d1a98574c090fb6ed8f3b7bdd.jpg\n",
            "Deleting duplicate image: /content/faint_detection_newdataset/validate/Standing/iDplfbSYxHXFkm2vfchQiVRJzx_jpg.rf.af5b52f4bd7dcf27b2e15361f7681472.jpg\n",
            "Deleting duplicate image: /content/faint_detection_newdataset/validate/Standing/nhqjqiSEiUjQN64jbyaCBaRiyI_jpg.rf.7974c1c67f9c1fbbc9b6ecfadd541410.jpg\n",
            "Deleting duplicate image: /content/faint_detection_newdataset/validate/Standing/Yivyop5RUX68pCtICTqVSkjOzL_jpg.rf.9007195bf6040c1a61660e69b925e015.jpg\n",
            "Deleting duplicate image: /content/faint_detection_newdataset/validate/Standing/XORRV4NtkoAiayrGrpGax0P53M_jpg.rf.dc54ae884e7d8248306fe5614f1ef1b2.jpg\n",
            "Deleting duplicate image: /content/faint_detection_newdataset/validate/Standing/0roc1Tt6WXqSML5TCfapQOocSX_jpg.rf.ed7eb69e290b4137b064144e83288c74.jpg\n",
            "Deleting duplicate image: /content/faint_detection_newdataset/validate/Standing/UzPivg4ut52wIOsj98wncqD3tz_jpg.rf.3d7e65a77df86f2c01af0016a9f714ac.jpg\n",
            "Deleting duplicate image: /content/faint_detection_newdataset/validate/Standing/KDL14rtykrqOjwG45VEz7DEF08_jpg.rf.94e0bc48667e6b9d218f8883f525e72a.jpg\n",
            "Deleting duplicate image: /content/faint_detection_newdataset/validate/Standing/qa0OnNXpMPAW4nbUnFmrUyd3zl_jpg.rf.8efa024ce554a0c43df82fd4065283cf.jpg\n",
            "Deleting duplicate image: /content/faint_detection_newdataset/validate/Standing/d5E5Sf8W0sqtbUvlbCaaQXNrH0_jpg.rf.285185ec0b79e3e210fd8ca1713636e4.jpg\n",
            "Deleting duplicate image: /content/faint_detection_newdataset/validate/Standing/3cIVyfjJovusQAZWkXc5NGsJNU_jpg.rf.38b96bc8145f656ade091f45fe2a2d0c.jpg\n",
            "Deleting duplicate image: /content/faint_detection_newdataset/validate/Standing/Cu5ee1p2YlT3iYouclR8SfhD2v_jpg.rf.fc5c4915b596e2bcac2eb704e9298faa.jpg\n",
            "Deleting duplicate image: /content/faint_detection_newdataset/validate/Standing/nm85OeFpOjAApBYjZVB4BO3e0H_jpg.rf.ba9f5c940c031f708bba0f8dd7559d2e.jpg\n",
            "Deleting duplicate image: /content/faint_detection_newdataset/validate/Standing/VdHom5yGCfpOG7B0PFBlrLLjKu_jpg.rf.c530c5c2fc7c86f59d715e0e7eb83c0e.jpg\n",
            "Deleting duplicate image: /content/faint_detection_newdataset/validate/Standing/0zXqVBOVA63SXmoaQ7iWWlWf25_jpg.rf.d06f2b999f380c2fefc476f863820b82.jpg\n",
            "Deleting duplicate image: /content/faint_detection_newdataset/validate/Standing/MPpyaEPIKNIrP0FYscYLqVguiA_jpg.rf.a8a6a34245e1ec8128bec8cd38d52531.jpg\n",
            "Deleting duplicate image: /content/faint_detection_newdataset/validate/Standing/vOITHJnJazrwNkeKQODIcw6k0u_jpg.rf.5aefd98da9f66d2b5c7c10982cd21766.jpg\n",
            "Deleting duplicate image: /content/faint_detection_newdataset/validate/Standing/u0F86Kz460PT79FqL0juIZSkp7_jpg.rf.4ed642f59329bc9e84cb95aa2c8da276.jpg\n",
            "Deleting duplicate image: /content/faint_detection_newdataset/validate/Standing/Awfvelz1OGcGk38BYbquvQJuUb_jpg.rf.2cffdb80606dfa172c11d39f9b2eeae5.jpg\n",
            "Deleting duplicate image: /content/faint_detection_newdataset/validate/Standing/t2xXBJwPwwrZWVQbHAOXpGk6Y4_jpg.rf.0c9a29b83cd9192c3828caa8bee7c423.jpg\n",
            "Deleting duplicate image: /content/faint_detection_newdataset/validate/Standing/Dtv43U0ieyF9YBWrf5u0bMy1ZB_jpg.rf.2daa1aa94c993a47c2cf403075aa65bd.jpg\n",
            "Deleting duplicate image: /content/faint_detection_newdataset/validate/Standing/GzJ3VLFhjzNgoJTbdtn4SWlFZJ_jpg.rf.b4c0a84e6ead7edb37db81770e6420bc.jpg\n",
            "Deleting duplicate image: /content/faint_detection_newdataset/validate/Standing/su71VuZbFrIDCvJhi0vmUseOUS_jpg.rf.752b8d4443995d75acb1f58a74805f46.jpg\n",
            "Deleting duplicate image: /content/faint_detection_newdataset/validate/Standing/dkckBQNalHjS9AIMdJi7d1mQiX_jpg.rf.807791ba2dcb74fb1896bc05679f6465.jpg\n",
            "Deleting duplicate image: /content/faint_detection_newdataset/validate/Standing/AKXSH0uVt8evGXXgSiII9gmvMx_jpg.rf.072fc6ec83fe18a54895a90b6c198081.jpg\n",
            "Deleting duplicate image: /content/faint_detection_newdataset/validate/Standing/lArJkOjMvtPKCLedVvBuc3TuN3_jpg.rf.4069aeb69b4f4059f35246857a24d4ef.jpg\n",
            "Deleting duplicate image: /content/faint_detection_newdataset/validate/Standing/U0hJ6PuXewwtERPfKxJWUUTSkh_jpg.rf.81b9f0af05ba0ae36380fb8998654fd2.jpg\n",
            "Deleting duplicate image: /content/faint_detection_newdataset/validate/Standing/dHHEnBia83iwZuT1wylN8GDrjH_jpg.rf.c768afce99813180ebb3cdf5fc6d4507.jpg\n",
            "Deleting duplicate image: /content/faint_detection_newdataset/validate/Standing/yTDJtDohsVpMFeyNLspXCH9uV2_jpg.rf.55ea5db5e5eaccf9b60595ae13cd2041.jpg\n",
            "Deleting duplicate image: /content/faint_detection_newdataset/validate/Standing/vBpep3shilIFf8SPPA612jpGoi_jpg.rf.2ceefd23eab51c25f36dd2d89761359e.jpg\n",
            "Deleting duplicate image: /content/faint_detection_newdataset/validate/Standing/ATBY3bz6qUGCMQ9Vzcn7bO9gzB_jpg.rf.f2652172fef1a20173fe1d50095e27f4.jpg\n",
            "Deleting duplicate image: /content/faint_detection_newdataset/validate/Standing/qIXCCGK6PD6JHmdpZPMRAtDI8p_jpg.rf.3d8604a1fc3fe68fd1398e9b2fbad653.jpg\n",
            "Deleting duplicate image: /content/faint_detection_newdataset/validate/Standing/sLmFSQ9sK0lr76IwJU5eby1Bba_jpg.rf.86e41cb6dd37b5960db015668c5333ba.jpg\n",
            "Deleting duplicate image: /content/faint_detection_newdataset/validate/Standing/3dDn4qGzG5lhuJwEa55DPFtyW4_jpg.rf.5afaa5685e56a316759b2d0fdf28e177.jpg\n",
            "Deleting duplicate image: /content/faint_detection_newdataset/validate/Standing/HUU3hdcxBhA3OWtb0J8EpbC6lt_jpg.rf.3044186f2c06781efc89531e4c062761.jpg\n",
            "Deleting duplicate image: /content/faint_detection_newdataset/validate/Standing/xGAQJ33lbbCVq4VKTdBbLWDYxV_jpg.rf.132893d524fc88139a7a8f2f467b8ae4.jpg\n",
            "Deleting duplicate image: /content/faint_detection_newdataset/validate/Standing/N8FiMWl5iLxfMUFtHtOxPEJC70_jpg.rf.5844b487145f5c4a6a0134326da94f82.jpg\n",
            "Deleting duplicate image: /content/faint_detection_newdataset/validate/Standing/3S1F0eaP67DvANHY4tNRL5b0a0_jpg.rf.c74c556045b230a5da514f83e33cabd9.jpg\n",
            "Deleting duplicate image: /content/faint_detection_newdataset/validate/Standing/bTparwyHOk4EUS2JVTjbOdFUsx_jpg.rf.92bbb3da69e23fb46efe3e622f0fcba8.jpg\n",
            "Deleting duplicate image: /content/faint_detection_newdataset/validate/Standing/Ob6Obrzl2xBoduKGlPr3inhKKs_jpg.rf.4baa81dc1b968d76d8b64293f6ef797a.jpg\n",
            "Deleting duplicate image: /content/faint_detection_newdataset/validate/Standing/WKaPWZk2tux45DtZGiTYs0gvL8_jpg.rf.c999aeb1ea750d89f260f3f92fc5652e.jpg\n",
            "Deleting duplicate image: /content/faint_detection_newdataset/validate/Standing/W6d3vHJdPBmt3tFK2bLTArvJje_jpg.rf.c57f44671718bfe7d2cff78052bbc4da.jpg\n",
            "Deleting duplicate image: /content/faint_detection_newdataset/validate/Standing/WEdY2F3iyxXRbXG1ZGByEZe3In_jpg.rf.e08976f0b06e469611db9fbc52f644f4.jpg\n",
            "Deleting duplicate image: /content/faint_detection_newdataset/validate/Standing/8hit1hb7jvSLF2bnhQMCvTFCfI_jpg.rf.63c38410422b6497b1cb5aaa80c5109b.jpg\n",
            "Deleting duplicate image: /content/faint_detection_newdataset/validate/Standing/YJSJyK2bcdq00xdGz9WDBzZ2cx_jpg.rf.20c3b4f2c9b9ed348f11d53be8e66e37.jpg\n",
            "Deleting duplicate image: /content/faint_detection_newdataset/validate/Standing/WNqnCCLjii3t1SJYA9WwOUQV01_jpg.rf.cfc2c18febb6146a4dc73166ed699fa3.jpg\n",
            "Deleting duplicate image: /content/faint_detection_newdataset/validate/Standing/kSOlZmwOT4POREUysIB2GIuQm8_jpg.rf.df89e1355916e35d20e6ecf4fbbaa28c.jpg\n",
            "Deleting duplicate image: /content/faint_detection_newdataset/validate/Standing/vX3u4Rm8mPGirpHnfknS4hB73E_jpg.rf.09e1e986b073d9d6bc58d6d2712eaf89.jpg\n",
            "Deleting duplicate image: /content/faint_detection_newdataset/validate/Standing/rpLoVOlEWNsLiXMmlOLPnWdyZy_jpg.rf.618e12eb7628d7ea318f61dc828e6bc1.jpg\n",
            "Deleting duplicate image: /content/faint_detection_newdataset/validate/Standing/ZHdcqt8TYB3T8wIPDyvkL3CY5r_jpg.rf.029eb408403afe8faed141865a1973d5.jpg\n",
            "Deleting duplicate image: /content/faint_detection_newdataset/validate/Standing/BZefIEe1bUpb9SEn3gKQwXYjsh_jpg.rf.55d1772af1aa6638bef703a637a25c3f.jpg\n",
            "Deleting duplicate image: /content/faint_detection_newdataset/validate/Standing/wQqFydm6AavQPCgLO8nZuiyn1r_jpg.rf.bc383bbb2159a519cb32df233651cc1a.jpg\n",
            "Deleting duplicate image: /content/faint_detection_newdataset/validate/Standing/i6mjznJj2iMFgSCMNc6DKUllG1_jpg.rf.f0085793672455da496eeafcc7e3b37e.jpg\n",
            "Deleting duplicate image: /content/faint_detection_newdataset/validate/Standing/61woRV6mF5rJqWefpONcy1zRQb_jpg.rf.bbe2dd1a292645ffdb2e38ab8c905f01.jpg\n",
            "Deleting duplicate image: /content/faint_detection_newdataset/validate/Standing/EfKdUyt20EtPDHEb4nrFMa8J47_jpg.rf.971ebb63e232ab79c17aa7c29fc1f499.jpg\n",
            "Deleting duplicate image: /content/faint_detection_newdataset/validate/Standing/4xTfJbV5LqwMxe87BWm7KRuQBz_jpg.rf.635528d13addcd5cacd8454a11c6df95.jpg\n",
            "Deleting duplicate image: /content/faint_detection_newdataset/validate/Standing/xPRJhpKA7EZgXgA6QVaWpvFb84_jpg.rf.e34d7a53aa52d7fc5961e183516f5b7a.jpg\n",
            "Deleting duplicate image: /content/faint_detection_newdataset/validate/Standing/w8sczV77MpIj3oPguG6dTQW1fE_jpg.rf.3c9e5314c37bca4cc102f686507ea82c.jpg\n",
            "Deleting duplicate image: /content/faint_detection_newdataset/validate/Standing/Yc5cWq4OIwZCgMjOXUNrhRnUNS_jpg.rf.c1faa607c56026fdb75a480b84a07058.jpg\n",
            "Deleting duplicate image: /content/faint_detection_newdataset/validate/Standing/fH51nQBIXadn6NHAmfavQN4dMV_jpg.rf.79503aa4579be2b79752ccd4f450a82d.jpg\n",
            "Deleting duplicate image: /content/faint_detection_newdataset/validate/Standing/2nU6ZneN8DNz5wToyHzgRjdg8w_jpg.rf.0070c30c038766f2171657393e805fd5.jpg\n",
            "Deleting duplicate image: /content/faint_detection_newdataset/validate/Standing/5SGeH68zU5wFVHbkZoYAMJKUOc_jpg.rf.e891aca70830ae1070ec04448d6ed556.jpg\n",
            "Deleting duplicate image: /content/faint_detection_newdataset/validate/Standing/pKbs1UjjkAcDyOPFH2ZLjnwHd1_jpg.rf.f9e5d6d89ec7e454247f6959376e5dd8.jpg\n",
            "Deleting duplicate image: /content/faint_detection_newdataset/validate/Standing/SwIVUB9aeO8JFFbBAUPFnt6tSk_jpg.rf.536eecad3c601bacd5defb61730efd7d.jpg\n",
            "Deleting duplicate image: /content/faint_detection_newdataset/validate/Standing/Q8YwRUBiRr6HfAiPmdZaOrnhuu_jpg.rf.3a77bebdca8dd307963ad922fe2a3e36.jpg\n",
            "Deleting duplicate image: /content/faint_detection_newdataset/validate/Standing/DVLxzxbf8XwyJDSyFSF39mxNfO_jpg.rf.3922bf830debacea0eccc21e77f8f9a4.jpg\n",
            "Deleting duplicate image: /content/faint_detection_newdataset/validate/Standing/I5HJNpYUX5k8sp1fOC95rX20CA_jpg.rf.f96946e21c935598685639cc8c20af25.jpg\n",
            "Deleting duplicate image: /content/faint_detection_newdataset/validate/Standing/WV3AvlBxc05vytRiUGHLS45ws4_jpg.rf.683c5ddee91a894400150eb735cbdb0b.jpg\n",
            "Deleting duplicate image: /content/faint_detection_newdataset/validate/Standing/rYiBjACcM9pMpHOb0kthpN4Y9L_jpg.rf.d53b99b19b5c07e61e2651bf3dbab355.jpg\n",
            "Deleting duplicate image: /content/faint_detection_newdataset/validate/Standing/DzYRuHFAkRRCLGXv89oGgTU9TM_jpg.rf.666865c9f3495420bf1386e3d2a963c9.jpg\n",
            "Deleting duplicate image: /content/faint_detection_newdataset/validate/Standing/DbNWFewIHCI0KTsvwl4I0tkHWU_jpg.rf.1837c51be65807d3f9e75ece2e4c27ff.jpg\n",
            "Deleting duplicate image: /content/faint_detection_newdataset/validate/Standing/u9LJSI0djBxk1MG2Znzlwc1ejT_jpg.rf.4c63ca8cdbb0a8dd362550056ce67254.jpg\n",
            "Deleting duplicate image: /content/faint_detection_newdataset/validate/Standing/j7jtYV50tuFl3051nKoOEJtaet_jpg.rf.c6faf4c2c91e52270c9a545a9d8f8efd.jpg\n",
            "Deleting duplicate image: /content/faint_detection_newdataset/validate/Standing/Oi5eeEg8u8hWAegORbwPg14yZQ_jpg.rf.9282e7620e83b0c2e815687be407cae3.jpg\n",
            "Deleting duplicate image: /content/faint_detection_newdataset/validate/Standing/9TusmZaCiVB77n2Np6LBgnByaU_jpg.rf.c49fbd0b3623be6eecba3998298845a8.jpg\n",
            "Deleting duplicate image: /content/faint_detection_newdataset/validate/Standing/bf175sbB4tIYTUqs35fWdBccGb_jpg.rf.c325a1cf58f1809fafd7afde1359f5dc.jpg\n",
            "Deleting duplicate image: /content/faint_detection_newdataset/validate/Standing/ZfRMDhWqtjSnZv5GMxZRlzluJO_jpg.rf.3c9e98ea125d0df7afaf75cebc9ed2ca.jpg\n",
            "Deleting duplicate image: /content/faint_detection_newdataset/validate/Standing/4uknir1QJYJ3hZuShiA6YaZLee_jpg.rf.e7ce2400bd4a5cd4b2c969ac38c9e446.jpg\n",
            "Deleting duplicate image: /content/faint_detection_newdataset/validate/Standing/GjRnZXgUBYoBLNfxHpERoxgJlG_jpg.rf.6eba599b1f71e7037e370aba15be0cb2.jpg\n",
            "Deleting duplicate image: /content/faint_detection_newdataset/validate/Standing/WfaZMxf4jLkLO8XngFaEnVMv8C_jpg.rf.d38d095c96a4c058c5676d0115556f80.jpg\n",
            "Deleting duplicate image: /content/faint_detection_newdataset/validate/Standing/FjT4l8qmrGIaBqWdIq4h7hnP9t_jpg.rf.f087337ec96e9551749cfc90e9845c07.jpg\n",
            "Deleting duplicate image: /content/faint_detection_newdataset/validate/Standing/Qz86FHByCm8r5w4GqbpW9rYitJ_jpg.rf.60d19d5a25d6ef6c8dea37c669aa08cf.jpg\n",
            "Deleting duplicate image: /content/faint_detection_newdataset/validate/Standing/ySwiFMz1RFQTwwNBK7kjnyvZet_jpg.rf.2f621f39269a1549897bbe403c2c6676.jpg\n",
            "Deleting duplicate image: /content/faint_detection_newdataset/validate/Standing/Wzqz8VWUADBDZBJRhVTAvexYCZ_jpg.rf.622bae27a7e4f49377de130a08e990f6.jpg\n",
            "Deleting duplicate image: /content/faint_detection_newdataset/validate/Standing/fCvYizgJhDcqbiCBXIvtadkSk2_jpg.rf.eac1bfd8eb32c4f5fa2334100e4932be.jpg\n",
            "Deleting duplicate image: /content/faint_detection_newdataset/validate/Standing/TEYNgCl5oHICXc2YdOqpKnoIao_jpg.rf.0ef3db7181f978c565be2c466ed3714d.jpg\n",
            "Deleting duplicate image: /content/faint_detection_newdataset/validate/Standing/k2bhTjk7uWfMA8r8KzeefqxEIY_jpg.rf.5a199dd2d295ee10b72509987cc15c2d.jpg\n",
            "Deleting duplicate image: /content/faint_detection_newdataset/validate/Standing/D6XKiQOYflqL4k4ELGQjT14poP_jpg.rf.60794a2228dc82d855d69031906ca0a0.jpg\n",
            "Deleting duplicate image: /content/faint_detection_newdataset/validate/Standing/iZzfA2EcSUAxbP2gPcV9JADty4_jpg.rf.20c39f50b6c3b1abe98457f1fa4ec5c2.jpg\n",
            "Deleting duplicate image: /content/faint_detection_newdataset/validate/Standing/xcvcqOgt38Mf5Nft06mp66RpiY_jpg.rf.b2819eb375164b819912cc4afca67231.jpg\n",
            "Deleting duplicate image: /content/faint_detection_newdataset/validate/Standing/bq4fTSIwqVB5JDgXtFRyyzgzmZ_jpg.rf.348dabca273bc3be58790d3b30ecc5a3.jpg\n",
            "Deleting duplicate image: /content/faint_detection_newdataset/validate/Standing/hrts6D7K9E8ByMnjv9c4yQhMOi_jpg.rf.fc08b3e590cb29058baa6def6e57badf.jpg\n",
            "Deleting duplicate image: /content/faint_detection_newdataset/validate/Standing/tjlt6tanAIjAjZZywC5YSmdwpN_jpg.rf.6db34d886f6be7aad4961b5c35e9d6fe.jpg\n",
            "Deleting duplicate image: /content/faint_detection_newdataset/validate/Standing/yS8Ge5f8GDjMf8JfmipBsSYp9r_jpg.rf.fbacaebd50c6d197dbebf031eb2b87bd.jpg\n",
            "Deleting duplicate image: /content/faint_detection_newdataset/validate/Standing/QyFV0fqZ9ji0gsKr5ymgcfH3gC_jpg.rf.d70e465625a2140bf6ed3292a9872561.jpg\n",
            "Deleting duplicate image: /content/faint_detection_newdataset/validate/Standing/XIwPLxBEes89DgZKMYDIkbenfd_jpg.rf.8daeddcf5cc2076ee9865b718ad92671.jpg\n",
            "Deleting duplicate image: /content/faint_detection_newdataset/validate/Standing/wrNQQFyfDES8yW0XS92XoABmey_jpg.rf.e6ed3be2b81864c6178566e704875b5a.jpg\n",
            "Deleting duplicate image: /content/faint_detection_newdataset/validate/Standing/2TSON3AJqcjd7Q6ylQKHyVgA47_jpg.rf.1c60f8c1c436f766b67b8c15a74d0d50.jpg\n",
            "Deleting duplicate image: /content/faint_detection_newdataset/validate/Standing/k0kfXQFaaM9990cFKtWKiQPdRG_jpg.rf.7527e0af7bf441d3ce1a052381313850.jpg\n",
            "Deleting duplicate image: /content/faint_detection_newdataset/validate/Standing/c1RBWqYN0Lh8aDHzdFmi6qmEPE_jpg.rf.09c6c8409397987dd47530a0fef6ffd2.jpg\n",
            "Deleting duplicate image: /content/faint_detection_newdataset/test/Standing/cRzB3yxml0g3ruioJxpf6kNlaW_jpg.rf.db39194fa530f95db517e59cb73ab8d5.jpg\n",
            "Deleting duplicate image: /content/faint_detection_newdataset/test/Standing/Qw7s3JwSpWDv1C2YPQ6SwSypEP_jpg.rf.27d6fa2018d5664937f69dcfff03c014.jpg\n",
            "Deleting duplicate image: /content/faint_detection_newdataset/test/Standing/ohwLNw9ig827t3hUsIjWl3rkwM_jpg.rf.32b8708b0553f2e4b9c204478ae6cde4.jpg\n",
            "Deleting duplicate image: /content/faint_detection_newdataset/test/Standing/GRgZdMHzR9oRSJNCT99hmGSDlX_jpg.rf.3a435cae40412847c58cc3c20b8b8214.jpg\n",
            "Deleting duplicate image: /content/faint_detection_newdataset/test/Standing/qxxeR5O5YKRRabP60eDyDlj2Rn_jpg.rf.1fe4c187297b18be4999594702763e52.jpg\n",
            "Deleting duplicate image: /content/faint_detection_newdataset/test/Standing/U2V7kTmWMtYF81QlfNLNPiijOX_jpg.rf.a98b058f8f35dcfed5a9a9ae24ec3109.jpg\n",
            "Deleting duplicate image: /content/faint_detection_newdataset/test/Standing/s7BQD5XQf8eUz2hbqG6JvFGer3_jpg.rf.5a7efa04426eba1e5375f9825e826e21.jpg\n",
            "Deleting duplicate image: /content/faint_detection_newdataset/test/Standing/lRX0GgTqImRag2FJ5jEmv0xU0B_jpg.rf.d8601061c3e35de14056e2bbff7a12af.jpg\n",
            "Deleting duplicate image: /content/faint_detection_newdataset/test/Standing/u6HOYB2921PA4CjbPZhsYy00wo_jpg.rf.ce9a9f6cafee6c70128ea5dd56a7e7a2.jpg\n",
            "Deleting duplicate image: /content/faint_detection_newdataset/test/Standing/otUfDVqpjsj4Gh55YS1htDqOQ8_jpg.rf.9d1271ae2b3232db8bcf1390ad097901.jpg\n",
            "Deleting duplicate image: /content/faint_detection_newdataset/test/Standing/OdJZllurMIBj4VT6i2L2S3qbR1_jpg.rf.1292f057dbcd55d479997995628d3af5.jpg\n",
            "Deleting duplicate image: /content/faint_detection_newdataset/test/Standing/oN09DSva4jVc9EAhW7A5r6fPnB_jpg.rf.827b656c2fef86fbf4999a2ef5e1ffb2.jpg\n",
            "Deleting duplicate image: /content/faint_detection_newdataset/test/Standing/sbOZkThdmSTj7lUOdjqlFqExQW_jpg.rf.7eebc6520225589982c8f95b83b856bd.jpg\n",
            "Deleting duplicate image: /content/faint_detection_newdataset/test/Standing/jGiHswT67qpii1ZQvbHTU2H7Gu_jpg.rf.f457352bad786bcfc4af1f501d4cf854.jpg\n",
            "Deleting duplicate image: /content/faint_detection_newdataset/test/Standing/BVYqCnRZo5F2aKbGuTuhyJ3eLK_jpg.rf.79eebec43a7e31fc679aa1d83a418205.jpg\n",
            "Deleting duplicate image: /content/faint_detection_newdataset/test/Standing/K5OCODLTMFa6TBAFol55Oyt3zg_jpg.rf.39460843bec8b4fb34220d52c22c19e7.jpg\n",
            "Deleting duplicate image: /content/faint_detection_newdataset/test/Standing/R4tAJwswRjcgvMViWgZ78fvyyr_jpg.rf.17cd35ed3fc7f6bf90e57fcf643d78d6.jpg\n",
            "Deleting duplicate image: /content/faint_detection_newdataset/test/Standing/28n08axual1pPNIg40xcnBNtRe_jpg.rf.a13e2ba70f3e1266ae8e724b308a95da.jpg\n",
            "Deleting duplicate image: /content/faint_detection_newdataset/test/Standing/eb4Rb6eRa8g0BXHNii1oCPiekG_jpg.rf.60f2ab4aef9f1d3d20af0eaa5018aab2.jpg\n",
            "Deleting duplicate image: /content/faint_detection_newdataset/test/Standing/Fvg1VcnHb4i0QRhfDSHHVuceGe_jpg.rf.001ada43509ed4498b81112945511517.jpg\n",
            "Deleting duplicate image: /content/faint_detection_newdataset/test/Standing/VhCHRLNf5110J3h1ZWjAaPEgFy_jpg.rf.699a1458339cc2588e316073f7923673.jpg\n",
            "Deleting duplicate image: /content/faint_detection_newdataset/test/Standing/Vku5DpoTAJbu3Un6mjza6RXvpo_jpg.rf.52153edaea19dd59cf613e1a34e22a32.jpg\n",
            "Deleting duplicate image: /content/faint_detection_newdataset/test/Standing/RkDk5N09Qs6CYYbEB5mCFdQeJF_jpg.rf.02646b3d1cdd3b009953fed17d1ef9d2.jpg\n",
            "Deleting duplicate image: /content/faint_detection_newdataset/test/Standing/4aH61uUk4vyg880OEgrIN41ruy_jpg.rf.fe4c4e3e095c7344745bdae8387cc2bb.jpg\n",
            "Deleting duplicate image: /content/faint_detection_newdataset/test/Standing/sJSIlkR49e3Q4ffsBt8cm9qGeC_jpg.rf.ad9ba3c88b5248f5f4b283c863806167.jpg\n",
            "Deleting duplicate image: /content/faint_detection_newdataset/test/Standing/oCXP9jJjyQMnJx6vr6QdHQVEc3_jpg.rf.52fc159a8e35a79a307d1f41179d9a05.jpg\n",
            "Deleting duplicate image: /content/faint_detection_newdataset/test/Standing/umrmmntvBeiFlDvyP08q68D6Pj_jpg.rf.3469bf25afc06b100b83391f278f19b9.jpg\n",
            "Deleting duplicate image: /content/faint_detection_newdataset/test/Standing/0eyJVQrBfcUri48NfLl9QTUviC_jpg.rf.824f0728f90c3c18ddb49e274def3cf4.jpg\n",
            "Deleting duplicate image: /content/faint_detection_newdataset/test/Standing/1qE2oEFX6akwtzkXKiIrZN1RFX_jpg.rf.463229aab02c058b59197c209c69dbc2.jpg\n",
            "Deleting duplicate image: /content/faint_detection_newdataset/test/Standing/kxVTYU5IAwUAU3E4mGohcyeSgo_jpg.rf.5db8c20a05bfcd6722b33160c4707e75.jpg\n",
            "Deleting duplicate image: /content/faint_detection_newdataset/test/Standing/KwTxPqnr4T5Q79LCTWWtw9X7Rv_jpg.rf.b98e78077d7f56d0f65b674bb4f6aeb7.jpg\n",
            "Deleting duplicate image: /content/faint_detection_newdataset/test/Standing/faSYuwHsPZHr6HmVwAXybIbl2V_jpg.rf.f4ac6e4b1a6dd4cddf6d7a78896b3ae5.jpg\n",
            "Deleting duplicate image: /content/faint_detection_newdataset/test/Standing/aISNp8D15ILSR7mSuDYPngpcEu_jpg.rf.0366df3e949d6bbd8b9bd22c5436f84f.jpg\n",
            "Deleting duplicate image: /content/faint_detection_newdataset/test/Standing/7OQruNoKWcZd1DGlbFv9lfXgvs_jpg.rf.bf5e31585e09e1532b0fdb1a2f8ea7f5.jpg\n",
            "Deleting duplicate image: /content/faint_detection_newdataset/test/Standing/piF4IMGJnXMFIfsI7aknJ1t99m_jpg.rf.4169079db2ea77eb7d16ce4498169fb8.jpg\n",
            "Deleting duplicate image: /content/faint_detection_newdataset/test/Standing/CDe0TbP6Wihafyk8M1Ge2h1m5T_jpg.rf.c59dd3203332aa11614e48acf4f6fab3.jpg\n",
            "Deleting duplicate image: /content/faint_detection_newdataset/test/Standing/Xg2BMs3MVwNBvoQ4Dm1MQaBumd_jpg.rf.572c51b76a0beac21150a7d26dedf6b4.jpg\n",
            "Deleting duplicate image: /content/faint_detection_newdataset/test/Standing/IFFetJdvoCZQM7TPvrCUe9x3D0_jpg.rf.cf1bae27a8d2671eb73faca9ed981e82.jpg\n",
            "Deleting duplicate image: /content/faint_detection_newdataset/test/Standing/5GpR2oxS0iJsAyOrGayJmLkXZq_jpg.rf.c674392e246043a3a3f3f36452ad51eb.jpg\n",
            "Deleting duplicate image: /content/faint_detection_newdataset/test/Standing/1DQhBXA5JdjcsozyrKK8Wd5rt7_jpg.rf.855cc858298da57398827781d1fceb81.jpg\n",
            "Deleting duplicate image: /content/faint_detection_newdataset/test/Standing/gIaR6SDVKeyKAmglahT6Tpd0cK_jpg.rf.46847007fc17c980954ee9bb4db95068.jpg\n",
            "Deleting duplicate image: /content/faint_detection_newdataset/test/Standing/ubELJcRwhWHfYWEIFsTkP7DheP_jpg.rf.130edc634ed03d44b9b18cbada1aa474.jpg\n",
            "Deleting duplicate image: /content/faint_detection_newdataset/test/Standing/2XQy8I5VvpZgobyF8QHsbLEkRY_jpg.rf.0288a232544ae671a55cfcbbaea40476.jpg\n",
            "Deleting duplicate image: /content/faint_detection_newdataset/test/Standing/3PtuO0wmY1IsAphuF3qsbH0VYd_jpg.rf.cc88a24ca8a93869c5a821d5579b5cce.jpg\n",
            "Deleting duplicate image: /content/faint_detection_newdataset/test/Standing/Oh5a0uGDqjZJ98Dhzty0aD2GQ4_jpg.rf.f9f6329e549ed794dbb05f4023915aaa.jpg\n",
            "Deleting duplicate image: /content/faint_detection_newdataset/test/Standing/FayzwPdMV03KgatW4KDn8EjPNx_jpg.rf.2f8f1b3a57aceb414f11c666fd7eb465.jpg\n",
            "Deleting duplicate image: /content/faint_detection_newdataset/test/Standing/lZI4olUeptdvPnnPNN9FSoU190_jpg.rf.98444ccd7f42cdea4b62e83678dc543a.jpg\n",
            "Deleting duplicate image: /content/faint_detection_newdataset/test/Standing/VniJ8687XuD2QFDSDovfA1t0Nq_jpg.rf.e38bd071e2a1796cb7d484fb1c8990bd.jpg\n",
            "Deleting duplicate image: /content/faint_detection_newdataset/test/Standing/86wKcProAUnDM1l6MQinJEbpG0_jpg.rf.02df8fea72667c187f4c77030b0b5897.jpg\n",
            "Deleting duplicate image: /content/faint_detection_newdataset/test/Standing/5FA9tqvyMmC8DgIzsL96fEitUR_jpg.rf.1edb349bd979391affdcb4b238d24885.jpg\n",
            "Deleting duplicate image: /content/faint_detection_newdataset/test/Standing/8FtHKr2Iydj9Hb62EPxeVxVj68_jpg.rf.561b609b7f7e7f54a21e42bf6b03cedd.jpg\n",
            "Deleting duplicate image: /content/faint_detection_newdataset/test/Standing/63s6pSNFmqRlaoW470KS0aHaWW_jpg.rf.9efafa6b470f6b7618e39a8370e856a1.jpg\n",
            "Deleting duplicate image: /content/faint_detection_newdataset/test/Standing/6x2XgIZzBSQO4up6gnBhgWXIUC_jpg.rf.7f2e0c9ccdcbff8eb64b930554e84f79.jpg\n",
            "Deleting duplicate image: /content/faint_detection_newdataset/test/Standing/hTPkszbtl7CiUFM77WMSIUXqeP_jpg.rf.b40b5a7c0585c5ced08a25b56c97c2af.jpg\n",
            "Deleting duplicate image: /content/faint_detection_newdataset/test/Standing/gsWmxhJj68kd8b6oIddvdG7tBA_jpg.rf.4ffd15caf789f23cd5ce33ef986711e4.jpg\n",
            "Deleting duplicate image: /content/faint_detection_newdataset/test/Standing/x8OVa3gQMkezpDkO10cQqRQlPn_jpg.rf.eb5e5d96750036cae3ec14c773df33cc.jpg\n",
            "Deleting duplicate image: /content/faint_detection_newdataset/test/Standing/DA1DoIr9lloBU4GudQH7UpNbqB_jpg.rf.2f469bab261cba9c5d2087b5600581bd.jpg\n",
            "Deleting duplicate image: /content/faint_detection_newdataset/test/Standing/fPKDxm4PR6RFVvc8HnK7q1eBJi_jpg.rf.f7c0877f2058f61c4a889521e483166f.jpg\n",
            "Deleting duplicate image: /content/faint_detection_newdataset/test/Standing/1fZWV2FVOzOVRxxF3t1IM2sQsZ_jpg.rf.b6630064c9bfc2897601ad7b02df41d6.jpg\n",
            "Deleting duplicate image: /content/faint_detection_newdataset/test/Standing/NJtysafrZCG8QUcHKBd8lPuUqf_jpg.rf.cf16c440d8edfcc95012e036b98a1adf.jpg\n",
            "Deleting duplicate image: /content/faint_detection_newdataset/test/Standing/k5EbY0ZlWyZukAonUOazJXDGue_jpg.rf.e5b59adf7c82ec0c74c2fc6b0609b8fa.jpg\n",
            "Deleting duplicate image: /content/faint_detection_newdataset/test/Standing/pcx3iR0vMJtMw5yUwAs3CaZvje_jpg.rf.769bebe52eb2ad308a6563c8e0b6db49.jpg\n",
            "Deleting duplicate image: /content/faint_detection_newdataset/test/Standing/Lv4tJipKzJltoVD7igh1UyeAOx_jpg.rf.56016aad51dc0d1140fcb96247e30e22.jpg\n",
            "Deleting duplicate image: /content/faint_detection_newdataset/test/Standing/hITDTqQbx3arawD2N931p4VCxm_jpg.rf.5a918b0e27ae8140c3f7f9dbab806a08.jpg\n",
            "Deleting duplicate image: /content/faint_detection_newdataset/test/Standing/qXuoDkaVAU7P1gTdq4hfHgRVdi_jpg.rf.15886367b040bba60f9b3ea8e7f5734d.jpg\n",
            "Deleting duplicate image: /content/faint_detection_newdataset/test/Standing/znSYCfw9YhCSXIAFsnw8eVwJe0_jpg.rf.c1147af44fd2939e9901fa51cd12a77b.jpg\n",
            "Deleting duplicate image: /content/faint_detection_newdataset/test/Standing/wo0Ej4q7k9TchEQozSTpBmCxtN_jpg.rf.ec76f24bb8f071e4bb8449c470d3924b.jpg\n",
            "Deleting duplicate image: /content/faint_detection_newdataset/test/Standing/kl9MN3OgFKJL46eYQZgpdR7wZ6_jpg.rf.b56e44211ba77f3968cabe52649718df.jpg\n",
            "Deleting duplicate image: /content/faint_detection_newdataset/test/Standing/QgGMPfehHFMm1UbTe85hEOFgb7_jpg.rf.7dbbe04d9145e8c35d03dd847330b288.jpg\n",
            "Deleting duplicate image: /content/faint_detection_newdataset/test/Standing/MPiNzINeMAhMo9n1ZPqpNLeEIM_jpg.rf.c54872388b2f3d4deb529f264851e778.jpg\n",
            "Deleting duplicate image: /content/faint_detection_newdataset/test/Standing/1ppNQYdv4wchSab21LjQjUDj0f_jpg.rf.a6c16f52b77cf3ed92016974108338c8.jpg\n",
            "Deleting duplicate image: /content/faint_detection_newdataset/test/Standing/l5jvAyrggLU5lMUHwp56hZht0y_jpg.rf.57548c355029bff1f9e62ae26e64a67c.jpg\n",
            "Deleting duplicate image: /content/faint_detection_newdataset/test/Standing/2X5UZd1s6lMpDBNMqVoIOWKPky_jpg.rf.68da4111e2b28db9c8d1643cbd28906b.jpg\n",
            "Deleting duplicate image: /content/faint_detection_newdataset/test/Standing/oDYIwReVXZPECitqgi117tk9lG_jpg.rf.150efb3d76f39ab41d9dca88770058ee.jpg\n",
            "Deleting duplicate image: /content/faint_detection_newdataset/test/Standing/A7HLNJChtXHbTH6hafVyK5ZVHQ_jpg.rf.8985adc641f3af5e46159a31289681dd.jpg\n",
            "Deleting duplicate image: /content/faint_detection_newdataset/test/Standing/KAVfgU42lAEUZVKBuSDg6OPFPV_jpg.rf.b736a44de1e7c4baf3befc9e7d575732.jpg\n",
            "Deleting duplicate image: /content/faint_detection_newdataset/test/Standing/nRKksppek17MMGAkXxF1DSP0sY_jpg.rf.5a3f97f04da915ad93ea7efd385d101a.jpg\n",
            "Deleting duplicate image: /content/faint_detection_newdataset/test/Standing/juFMcftfsQwYT3znZFAC11GME0_jpg.rf.6f5f6d63aa415af11e8383cc23419f22.jpg\n",
            "Deleting duplicate image: /content/faint_detection_newdataset/test/Standing/q0c4LfocRdltKsHDjFVkrrNWZz_jpg.rf.ad689e3cb1a8c7c4b403cf17aceb714e.jpg\n",
            "Deleting duplicate image: /content/faint_detection_newdataset/test/Standing/x8xCtAwNRl2Hl5wy2vopaQaLpw_jpg.rf.a93ed0f02facdc8777fbd0c057281a2e.jpg\n",
            "Deleting duplicate image: /content/faint_detection_newdataset/test/Standing/kIcxeX1v8iSX8uFHXm8NaX31vw_jpg.rf.cf19929ddb4186f31a19194639ede336.jpg\n",
            "Deleting duplicate image: /content/faint_detection_newdataset/test/Standing/2SkthVFbvG0pu294NsQqAC17Yo_jpg.rf.59e4e242e848a0a726c26ad925127189.jpg\n",
            "Deleting duplicate image: /content/faint_detection_newdataset/test/Standing/RGYNksCd24XZDgi7uLxr6HqicJ_jpg.rf.2668d4f457b2a7a3a410cb0c6a8bdcde.jpg\n",
            "Deleting duplicate image: /content/faint_detection_newdataset/test/Standing/lwk6rAUFPtfmXe5pURNUkP1rd5_jpg.rf.e5dfa6af9914d3c82389aba204f8bb52.jpg\n",
            "Deleting duplicate image: /content/faint_detection_newdataset/test/Standing/kIDeSXdyyTggKXYSKMr1FiUcKj_jpg.rf.64563972e8b1068f3930030feddf26d5.jpg\n",
            "Deleting duplicate image: /content/faint_detection_newdataset/test/Standing/5CpRqHpDuEt6t8gDWZpR5GvEnt_jpg.rf.1383ba1392673228137c45902b00c6f6.jpg\n",
            "Deleting duplicate image: /content/faint_detection_newdataset/test/Standing/71ldmMp6GMk6nREWPmsiaUYKnY_jpg.rf.b7cbd8aca8991be0104468d00ff90d10.jpg\n",
            "Deleting duplicate image: /content/faint_detection_newdataset/test/Standing/OzefIfaKppV0f68VM0j6dK79hQ_jpg.rf.f12791079444ecec3368a23971b13d0f.jpg\n",
            "Deleting duplicate image: /content/faint_detection_newdataset/test/Standing/NYF4F6RhKnA00AhgdwXdUAYiCX_jpg.rf.be02a81a2ee557a4a428c466158598fb.jpg\n",
            "Deleting duplicate image: /content/faint_detection_newdataset/test/Standing/5qz2uuiGqDEmE2VEulStzr6sJh_jpg.rf.8d5bd2dfecdf93506f666a67ba101447.jpg\n",
            "Deleting duplicate image: /content/faint_detection_newdataset/test/Standing/PAumNzHf8UBlo3PHfKto0BC2pm_jpg.rf.a096139655c5e4e9f5984d24271e5b90.jpg\n",
            "Deleting duplicate image: /content/faint_detection_newdataset/test/Standing/q3MmJbkbeeTyU3DHWfa9P2Xua2_jpg.rf.62379fd9eca6d607daea3e7b75547384.jpg\n",
            "Deleting duplicate image: /content/faint_detection_newdataset/test/Standing/TRbKLZhvsRd3PRxtaebsCKo2lC_jpg.rf.a81cd672b3c84b4752957490006bd865.jpg\n",
            "Deleting duplicate image: /content/faint_detection_newdataset/test/Standing/yywIa80Pnmwllrg4XdCcNw1xla_jpg.rf.f1f569a96cb4a7e258c7cb38e5978d54.jpg\n",
            "Deleting duplicate image: /content/faint_detection_newdataset/test/Standing/h9i1qgaUZd91EVvARS4ujNXCV1_jpg.rf.556088a31dcad7fa4ec396eaa4ff45af.jpg\n",
            "Deleting duplicate image: /content/faint_detection_newdataset/test/Standing/vxlaIbWnTAsFiU8xrkHKoW9zYI_jpg.rf.0675e72f52da699cc8183c39b6857255.jpg\n",
            "Deleting duplicate image: /content/faint_detection_newdataset/test/Standing/JzG9sVoDvwSflcFZHX9cd8wgxs_jpg.rf.979dd47c5ffe24ba5c3ce84ec0eca437.jpg\n",
            "Deleting duplicate image: /content/faint_detection_newdataset/test/Standing/cE9PRD7mVMJk20e4qiBDv02y1f_jpg.rf.e47c0e4e746883d6f154d5edbd797acc.jpg\n",
            "Deleting duplicate image: /content/faint_detection_newdataset/test/Standing/9ml4qNKttZKF2OQwZqBBMWJN96_jpg.rf.79a6564f4f1d6757d363d98f135cb5fa.jpg\n",
            "Deleting duplicate image: /content/faint_detection_newdataset/test/Standing/gsg1Xgk5bLGIpSYrhv1sA7HvLi_jpg.rf.c2088818442bb3cda7e12ce85cdd4b2e.jpg\n",
            "Deleting duplicate image: /content/faint_detection_newdataset/test/Standing/KvZVEIcpViKunS9ZekejDTo8HU_jpg.rf.0c62158bd75892838d8d63ec1dd99f01.jpg\n",
            "Deleting duplicate image: /content/faint_detection_newdataset/test/Standing/iKEIWM7r6pZSnj0hICZTLe88yZ_jpg.rf.440fbaf16c970cc3d9ccf9552f6488cc.jpg\n",
            "Deleting duplicate image: /content/faint_detection_newdataset/test/Standing/3JdfmT8pxZ4G4w1oe4HDUnISQC_jpg.rf.0e41e0cb03d43203b347953a59fa92f9.jpg\n",
            "Deleting duplicate image: /content/faint_detection_newdataset/test/Standing/BUoIed6X7cu5s2R2YCfhWWHbF8_jpg.rf.eabcb6000180e48e06f1e3b4ec196f69.jpg\n",
            "Deleting duplicate image: /content/faint_detection_newdataset/test/Standing/1GryW62PktFRDS79a94wC9bYX0_jpg.rf.a813a73161787334f37b41a8cca697ae.jpg\n",
            "Deleting duplicate image: /content/faint_detection_newdataset/test/Standing/TxIt8GHmDDlfpcRfMtDvbTcOs6_jpg.rf.b5715fdec884762e47d1b09a4decd8fc.jpg\n",
            "Deleting duplicate image: /content/faint_detection_newdataset/test/Standing/Er3D5LRMLhqDNssCdNVgKPx5xD_jpg.rf.dce80ba308c5f4b2b840ec6c23554efc.jpg\n",
            "Deleting duplicate image: /content/faint_detection_newdataset/test/Standing/8UToRqFHx8RDsvrHNKr58pVzne_jpg.rf.a024290181665c86422faa0db3d70548.jpg\n",
            "Deleting duplicate image: /content/faint_detection_newdataset/test/Standing/FFdPVA2fcEje9bcbrKU0EgpU6q_jpg.rf.55c4b4f18eefdd9d9a43a52c850c9d44.jpg\n",
            "Deleting duplicate image: /content/faint_detection_newdataset/test/Standing/YFa1OEBE50GEBpkG4qTHmtsPjb_jpg.rf.eaa6ffceccc4b804736948e76a000a97.jpg\n",
            "Deleting duplicate image: /content/faint_detection_newdataset/test/Standing/Z0p21PYvzz5HFLOMWMGBEgRxbR_jpg.rf.eabf6480e9cb49313dd9fc0da2aebb6e.jpg\n",
            "Deleting duplicate image: /content/faint_detection_newdataset/test/Standing/qaWVuNEioDEeopltTu2JdNA0fs_jpg.rf.13eda6220a021cced0d0ffc99380f627.jpg\n",
            "Deleting duplicate image: /content/faint_detection_newdataset/test/Standing/nI4k3vDk9rOcfdlToEk9amfNKM_jpg.rf.276677a25908b5e166f4aa6b69c60a77.jpg\n",
            "Deleting duplicate image: /content/faint_detection_newdataset/test/Standing/RZ3pXEZsd3jyrDXwIJofUqC9ij_jpg.rf.f6d8fed37650cd86f18c32876131d397.jpg\n",
            "Deleting duplicate image: /content/faint_detection_newdataset/test/Standing/B4YZB15Rt5OWH5oY5CqRNOCONI_jpg.rf.6bdbecdc1597842e3240f8656b18addd.jpg\n",
            "Deleting duplicate image: /content/faint_detection_newdataset/test/Standing/tB6mhY0QYMezSsJI5wsgV8iZma_jpg.rf.e2468b84a466a3b59847d63ffca996b2.jpg\n",
            "Deleting duplicate image: /content/faint_detection_newdataset/test/Standing/k4M2x3Cfnqa5M4kMzi94rheLMS_jpg.rf.8c28e3a650948a6a4d3cb4f6b4ef6280.jpg\n",
            "Deleting duplicate image: /content/faint_detection_newdataset/test/Standing/jSgklcbGfeTfjeqEeZ6kQTsPCK_jpg.rf.1ec5efc10ef0f68b4aa2e7a545e82258.jpg\n",
            "Deleting duplicate image: /content/faint_detection_newdataset/test/Standing/v2UOKtlGGe9mTATYJ6pm29621v_jpg.rf.c56ee769e438cd4e26f76de1045add3b.jpg\n",
            "Deleting duplicate image: /content/faint_detection_newdataset/test/Standing/o0mjZpbHTOImNiEyIEyq8iTOkN_jpg.rf.d34d770d54e8e5183790643071a1ef70.jpg\n",
            "Deleting duplicate image: /content/faint_detection_newdataset/test/Standing/xGTEMMqJbC1jueQDhW9iLmh4Us_jpg.rf.e6b2e9cdfa1c9cb462c276198e612a0c.jpg\n",
            "Deleting duplicate image: /content/faint_detection_newdataset/test/Standing/iscQOxKFCDBBnRi4R0UymhhyG3_jpg.rf.f48129f16204f15dc4ae96788dd1dde3.jpg\n",
            "Deleting duplicate image: /content/faint_detection_newdataset/test/Standing/58TOUl7GqWtpJRgDqNzp3P9l7Z_jpg.rf.ce3e7cee0f48c31d7c1e6bd799b4ce44.jpg\n",
            "Deleting duplicate image: /content/faint_detection_newdataset/test/Standing/NwaTNumIjg4PEV4oO9jbWIwytc_jpg.rf.bf1881e4766f4176482bf38a425c7b0c.jpg\n",
            "Deleting duplicate image: /content/faint_detection_newdataset/test/Standing/EQ4lA1b9pwTknc2uahfywej944_jpg.rf.554ea90a1fa1e9269b389ad498973c76.jpg\n",
            "Deleting duplicate image: /content/faint_detection_newdataset/test/Standing/MUhnTAlNgZ9YnX9G223GyydGMT_jpg.rf.456bdcbdaac5fa0758ae310e76960095.jpg\n",
            "Deleting duplicate image: /content/faint_detection_newdataset/test/Standing/69gF7fdJdCHoyRLmmVRP2V7NYH_jpg.rf.141bf291d7e712a1ab352e10ea90f3ef.jpg\n",
            "Deleting duplicate image: /content/faint_detection_newdataset/test/Standing/QZYOwk543OOChcBvXEuennBsyB_jpg.rf.ef59ddc59fa03322456cd1d1ab07de05.jpg\n",
            "Deleting duplicate image: /content/faint_detection_newdataset/test/Standing/OLqI7Jn34x2wuPp5hWtR1Y1J5d_jpg.rf.4ff4cc8178defc5350ef7150df784665.jpg\n",
            "Deleting duplicate image: /content/faint_detection_newdataset/test/Standing/8ytmsPjwvXa9tUdukVtJkdr0as_jpg.rf.81f5aa4f6af1878a212117a17bdf43e7.jpg\n",
            "Deleting duplicate image: /content/faint_detection_newdataset/test/Standing/hTiS9icZwRyYexSy72dQRL4Sja_jpg.rf.0a5af6fd5e6970cf5b3396cd31e9974a.jpg\n",
            "Deleting duplicate image: /content/faint_detection_newdataset/test/Standing/RiDVkeaA150QndnS8Zn8pVSPn5_jpg.rf.e52d17103ac05456ce7a2de5d5e8724e.jpg\n",
            "Deleting duplicate image: /content/faint_detection_newdataset/test/Standing/y639L6MQPZcnKkc6rTOSVwxIIn_jpg.rf.736e1d42f32fec71a52182cbfe7ce1a1.jpg\n",
            "Deleting duplicate image: /content/faint_detection_newdataset/test/Standing/NjfIQpKEjs5941nfBOC58nzsyI_jpg.rf.ebf441366da38c357e667b72cb4766d8.jpg\n",
            "Deleting duplicate image: /content/faint_detection_newdataset/test/Standing/l3ff6bnFxNt6uvHaovixVZI0XV_jpg.rf.b30e5feeface2c5d968e626a5682a0f9.jpg\n",
            "Deleting duplicate image: /content/faint_detection_newdataset/test/Standing/U4kzTod6gXMwGIVosDtulpnxWA_jpg.rf.4eaa9fc7c759f33fb419e5ab3e64d5aa.jpg\n",
            "Deleting duplicate image: /content/faint_detection_newdataset/test/Standing/TijGxOrL01zvWZ089JvANOorJE_jpg.rf.2b6b5f8bd4c6fbbe8b715e136731acbd.jpg\n",
            "Deleting duplicate image: /content/faint_detection_newdataset/test/Standing/SSIO07KUJq0riH1269ilqzh8KV_jpg.rf.20acfa7594691e19a46d036cee9df14a.jpg\n",
            "Deleting duplicate image: /content/faint_detection_newdataset/test/Standing/Mg9W9G9QqaTf923kuRbSGoDPd1_jpg.rf.011dcd6866f41e50cee27e263db20e73.jpg\n",
            "Deleting duplicate image: /content/faint_detection_newdataset/test/Standing/wGccG2vVYFib1pOeE0qmdgYPt1_jpg.rf.b8d55e94bf1ac423365f7aab8496df45.jpg\n",
            "Deleting duplicate image: /content/faint_detection_newdataset/test/Standing/aqaxhym3pOkQxSA8dGf9hLM0bC_jpg.rf.a0967b4912dae66b89bdcf94ad7d52e8.jpg\n",
            "Deleting duplicate image: /content/faint_detection_newdataset/test/Standing/ezlMx5o099ZZPll581Q1T5EAaE_jpg.rf.6897de5f89c796c50b255591a3b66029.jpg\n",
            "Deleting duplicate image: /content/faint_detection_newdataset/test/Standing/sCNjHGNxegu4caYXsXiuqHMVSr_jpg.rf.ec93adc3cd5e2bc339df36518f322d72.jpg\n",
            "Deleting duplicate image: /content/faint_detection_newdataset/test/Standing/f2dPASvHYbqJ1D33n0aJsx5zEz_jpg.rf.9c9e0d0986b11bf23168499334793a3b.jpg\n",
            "Deleting duplicate image: /content/faint_detection_newdataset/test/Standing/gew3yOGEZpmf8yRZrYNdJMoT0F_jpg.rf.7c99565d5e1295e6459b95b0d916cd07.jpg\n",
            "Deleting duplicate image: /content/faint_detection_newdataset/test/Standing/HrojbzSPqfPK52Q01ucAgRKHy0_jpg.rf.b5e8c6c199dfdeeaaca4edea7e6ab3a9.jpg\n",
            "Deleting duplicate image: /content/faint_detection_newdataset/test/Standing/R9QivXPUSsfPidayTATGxchKMn_jpg.rf.38010873b5206e93cb445015b9349ccf.jpg\n",
            "Deleting duplicate image: /content/faint_detection_newdataset/test/Standing/1rC7c8csxMO0IGGbh0cVqd661R_jpg.rf.22d08ad67889cdb426a979156ea15047.jpg\n",
            "Deleting duplicate image: /content/faint_detection_newdataset/test/Standing/8UNOFRqaUUHfAbvpHjq5pUBMml_jpg.rf.5e8f99e71ce89c3bb3b0983038323f9e.jpg\n",
            "Deleting duplicate image: /content/faint_detection_newdataset/test/Standing/etg0XJs1NMp8EZbP7QStZykU3v_jpg.rf.5342b78968ad3290c0aa1e667e43b85c.jpg\n",
            "Deleting duplicate image: /content/faint_detection_newdataset/test/Standing/G58gMVsxAENRXEBRrTrFttptE7_jpg.rf.576e4bfa81c695dfb18a632fda4c1540.jpg\n",
            "Deleting duplicate image: /content/faint_detection_newdataset/test/Standing/5SU6L9idrVbRydEcdMPhOXuSij_jpg.rf.c44af719ccd8aa032d07bc5cb0fcc660.jpg\n",
            "Deleting duplicate image: /content/faint_detection_newdataset/test/Standing/RcynLHp2H6rx0cdBWzJRcjkW2X_jpg.rf.4245d40419b7f874ad10f9b4ac0741be.jpg\n",
            "Deleting duplicate image: /content/faint_detection_newdataset/test/Standing/P0bSlyS8oGwB7bHYRJxmmvoRQ2_jpg.rf.d7811841b96bf973cd2420557fb4ca9c.jpg\n",
            "Deleting duplicate image: /content/faint_detection_newdataset/test/Standing/QovTaIVfqQ3ATuDDfaYst1msCN_jpg.rf.c1c592d145015e54129ebe48f7e8b01b.jpg\n",
            "Deleting duplicate image: /content/faint_detection_newdataset/test/Standing/KuDmIR3G5LbeSoNSwC84L6U9pQ_jpg.rf.cd7410f9f4cda644ffc7512d2b7a6e32.jpg\n",
            "Deleting duplicate image: /content/faint_detection_newdataset/test/Standing/8l6D8GJlJphrWpUnysharf3zjM_jpg.rf.98c7a8b0b87728148994dd7d412ae415.jpg\n",
            "Deleting duplicate image: /content/faint_detection_newdataset/test/Standing/JPmm8Padmx4wdZ6SnvDdox1X0A_jpg.rf.e4c3fcf549c561ba0eced40d0320ea97.jpg\n",
            "Deleting duplicate image: /content/faint_detection_newdataset/test/Standing/AC9DR431Q2xKDDVpqElv4uyjhd_jpg.rf.2ba1503bdf70a25d6c988fb7ee5dd734.jpg\n",
            "Deleting duplicate image: /content/faint_detection_newdataset/test/Standing/kgNRK8zvqfgB40wsB1Ifo5RbDO_jpg.rf.552594a106ca854443179cebd47d1fd5.jpg\n",
            "Deleting duplicate image: /content/faint_detection_newdataset/test/Standing/ZbBSqbfCP0idlShsbK9fs0jqKL_jpg.rf.85d2c68b4354ac905d00f84aa1cbbca5.jpg\n",
            "Deleting duplicate image: /content/faint_detection_newdataset/test/Standing/p1ixMONeLCc4pYCGJaZCYBSHhJ_jpg.rf.15abf398dcfaa57ea8c8d832cd841383.jpg\n",
            "Deleting duplicate image: /content/faint_detection_newdataset/test/Standing/rU77rqlgMP5ALhHS9nKUR91qQN_jpg.rf.0ee8a73f2581ba136dbce3b9d14952aa.jpg\n",
            "Deleting duplicate image: /content/faint_detection_newdataset/test/Standing/KsZFul0zcv6tnWCWqizBznW6VQ_jpg.rf.503210fde1a14af7d16ea139a4404cf9.jpg\n",
            "Deleting duplicate image: /content/faint_detection_newdataset/test/Standing/sAmgSmQb5AyUVUqx1QGl3Ij67S_jpg.rf.075c65849b29e3ed1a3bd7b4632c68aa.jpg\n",
            "Deleting duplicate image: /content/faint_detection_newdataset/test/Standing/iHpRdjJrtgtw6tMD16EJryWPJY_jpg.rf.8664b63529dfcde5c72ac66a5847e62b.jpg\n",
            "Deleting duplicate image: /content/faint_detection_newdataset/test/Standing/QmhKLa19l3Xupju5YvsF00a4oK_jpg.rf.b0dcd031dc7fa0f7e57edfe8af54fe43.jpg\n",
            "Deleting duplicate image: /content/faint_detection_newdataset/test/Standing/JsuHFqaIWQRFUrGhRAPz5uwH2d_jpg.rf.6ba774e9447108dac776b346db2cf659.jpg\n",
            "Deleting duplicate image: /content/faint_detection_newdataset/test/Standing/48P35zgyabYXkxLwOXIZsVAbbE_jpg.rf.e994fdc55eb8cf0bb3a82215a0443eba.jpg\n",
            "Deleting duplicate image: /content/faint_detection_newdataset/test/Standing/31gqtz9P1vkihas9Y2GZ5xvEUs_jpg.rf.055ff6e2bab1c6e7be8e6c0b2f4cccc1.jpg\n",
            "Deleting duplicate image: /content/faint_detection_newdataset/test/Standing/YEIiYJbMGKOhMOkvvI1RIKckte_jpg.rf.3ac66086c0574928b877bc6cba03f13c.jpg\n",
            "Deleting duplicate image: /content/faint_detection_newdataset/test/Standing/CGUrZIpfhkaAvXpG9wDB8jb9xV_jpg.rf.a9a3ff4b183aa5a18c3767247fba31c8.jpg\n",
            "Deleting duplicate image: /content/faint_detection_newdataset/test/Standing/qui9vAG2O0yBzn9YY8YQnlDd20_jpg.rf.77bdda8662d6ec7881bda6c8adf4f3de.jpg\n",
            "Deleting duplicate image: /content/faint_detection_newdataset/test/Standing/oAZipVVmwxrg5p0c4nsp3nnHGe_jpg.rf.9eee92a54c64598961e26aaf72a9cdf7.jpg\n",
            "Deleting duplicate image: /content/faint_detection_newdataset/test/Standing/2raXy7xdKBMGWjRbxcBezpye22_jpg.rf.dc3bb37372f1b411e71b67bb6ed2e934.jpg\n",
            "Deleting duplicate image: /content/faint_detection_newdataset/test/Standing/Flc1JNwqwPOHd1o7Xq46qVN3d3_jpg.rf.03116556e1769f7389e224c2dd96ef72.jpg\n",
            "Deleting duplicate image: /content/faint_detection_newdataset/test/Standing/y0XaDvPMHWDBppgSH4BnVefb17_jpg.rf.6a93da81551be6dbe0f3669f010b175a.jpg\n",
            "Deleting duplicate image: /content/faint_detection_newdataset/test/Standing/9k4DevJ3Qjlh3U6ECU9bDgJiUM_jpg.rf.df253de15dc07e02c2e8553e0457ec02.jpg\n",
            "Deleting duplicate image: /content/faint_detection_newdataset/test/Standing/SG446TFqJ7IxsI2mhgDVz3V2is_jpg.rf.6bad7d9c5eb051424b7a37fde6a5e592.jpg\n",
            "Deleting duplicate image: /content/faint_detection_newdataset/test/Standing/ApbXSjojAgGKYiNVDz1l5OfFdw_jpg.rf.c28a1f994b741409991b5c7d852f7be7.jpg\n",
            "Deleting duplicate image: /content/faint_detection_newdataset/test/Standing/EfJG8cE2PsLrsWxTqp1GQJV3IW_jpg.rf.c71e01c4460b653692a385cb4bb66444.jpg\n",
            "Deleting duplicate image: /content/faint_detection_newdataset/test/Standing/poF2Uu4Emg3ubmaEDp1VqVsMnw_jpg.rf.18ef5f9cdd69aedd59c06d8140ce8e3b.jpg\n",
            "Deleting duplicate image: /content/faint_detection_newdataset/test/Standing/mF8SnN4AXkLm2udNF3eH5pfGvu_jpg.rf.6e6fbad8a786d8c77a0a96845223af2e.jpg\n"
          ]
        }
      ]
    },
    {
      "cell_type": "code",
      "source": [
        "import os\n",
        "import pandas as pd\n",
        "from PIL import Image\n",
        "\n",
        "def check_image_datasets(directories):\n",
        "    # List to hold image file paths and their corresponding hashes\n",
        "    image_data = []\n",
        "\n",
        "    # Iterate through all provided directories\n",
        "    for directory in directories:\n",
        "        if not os.path.isdir(directory):\n",
        "            print(f\"Directory does not exist: {directory}\")\n",
        "            continue\n",
        "\n",
        "        # Iterate through all files in the directory\n",
        "        for filename in os.listdir(directory):\n",
        "            file_path = os.path.join(directory, filename)\n",
        "\n",
        "            # Check if the file is an image\n",
        "            try:\n",
        "                with Image.open(file_path) as img:\n",
        "                    # Convert image to a hash\n",
        "                    img_hash = hash(img.tobytes())\n",
        "                    image_data.append((filename, img_hash))\n",
        "            except Exception as e:\n",
        "                print(f\"Could not open {file_path}: {e}\")\n",
        "\n",
        "    # Create a DataFrame\n",
        "    df = pd.DataFrame(image_data, columns=['filename', 'hash'])\n",
        "\n",
        "    # Check for duplicates\n",
        "    duplicate_images = df[df.duplicated(subset='hash', keep=False)]\n",
        "\n",
        "    # Output results\n",
        "    if not duplicate_images.empty:\n",
        "        print(\"Duplicate images found:\")\n",
        "        print(duplicate_images)\n",
        "    else:\n",
        "        print(\"No duplicate images found.\")\n",
        "\n",
        "def delete_duplicate_images(directories):\n",
        "    # List to hold image file paths and their corresponding hashes\n",
        "    image_data = []\n",
        "    hash_map = {}\n",
        "\n",
        "    # Iterate through all provided directories\n",
        "    for directory in directories:\n",
        "        if not os.path.isdir(directory):\n",
        "            print(f\"Directory does not exist: {directory}\")\n",
        "            continue\n",
        "\n",
        "        # Iterate through all files in the directory\n",
        "        for filename in os.listdir(directory):\n",
        "            file_path = os.path.join(directory, filename)\n",
        "\n",
        "            # Check if the file is an image\n",
        "            try:\n",
        "                with Image.open(file_path) as img:\n",
        "                    # Convert image to a hash\n",
        "                    img_hash = hash(img.tobytes())\n",
        "                    image_data.append((filename, img_hash))\n",
        "\n",
        "                    # Store the file path in the hash map\n",
        "                    if img_hash in hash_map:\n",
        "                        hash_map[img_hash].append(file_path)\n",
        "                    else:\n",
        "                        hash_map[img_hash] = [file_path]\n",
        "            except Exception as e:\n",
        "                print(f\"Could not open {file_path}: {e}\")\n",
        "\n",
        "    # Identify and delete duplicate images\n",
        "    duplicates_found = False\n",
        "    for paths in hash_map.values():\n",
        "        if len(paths) > 1:\n",
        "            duplicates_found = True\n",
        "            # Keep the first image and delete the others\n",
        "            for path in paths[1:]:\n",
        "                print(f\"Deleting duplicate image: {path}\")\n",
        "                os.remove(path)\n",
        "\n",
        "    if not duplicates_found:\n",
        "        print(\"No duplicate images found.\")\n",
        "\n",
        "# Specify the directories containing your images\n",
        "image_directories = [\n",
        "    '/content/faint_detection_newdataset/train/Fallen',\n",
        "    '/content/faint_detection_newdataset/train/Standing',\n",
        "    '/content/faint_detection_newdataset/validate/Fallen',\n",
        "    '/content/faint_detection_newdataset/validate/Standing',\n",
        "    '/content/faint_detection_newdataset/test/Fallen',\n",
        "    '/content/faint_detection_newdataset/test/Standing'\n",
        "\n",
        "]\n",
        "\n",
        "# Check for duplicates\n",
        "check_image_datasets(image_directories)\n",
        "\n",
        "# Optionally, delete duplicates\n",
        "delete_duplicate_images(image_directories)"
      ],
      "metadata": {
        "colab": {
          "base_uri": "https://localhost:8080/"
        },
        "id": "-gmhu3S-hFgn",
        "outputId": "ff203da8-e60b-4f5d-d8b9-2d01d2d98477"
      },
      "execution_count": 8,
      "outputs": [
        {
          "output_type": "stream",
          "name": "stdout",
          "text": [
            "No duplicate images found.\n",
            "No duplicate images found.\n"
          ]
        }
      ]
    },
    {
      "cell_type": "code",
      "source": [
        "import tensorflow as tf\n",
        "from tensorflow.keras import layers, models\n",
        "from tensorflow.keras.preprocessing.image import ImageDataGenerator\n",
        "from tensorflow.keras.callbacks import EarlyStopping, ModelCheckpoint\n",
        "import optuna\n",
        "\n",
        "# Set parameters\n",
        "img_height, img_width = 224, 224\n",
        "batch_size = 16\n",
        "epochs = 10\n",
        "\n",
        "# Define data directory paths\n",
        "train_data_dir = '/content/faint_detection_newdataset/train'  # Update this path\n",
        "val_data_dir = '/content/faint_detection_newdataset/validate'  # Update this path\n",
        "test_data_dir = '/content/faint_detection_newdataset/test'    # Update this path\n",
        "\n",
        "# Data augmentation and preprocessing for training\n",
        "train_datagen = ImageDataGenerator(\n",
        "    rescale=1.0 / 255.0,\n",
        "    rotation_range=10,\n",
        "    width_shift_range=0.1,\n",
        "    height_shift_range=0.1,\n",
        "    shear_range=0.1,\n",
        "    zoom_range=0.1,\n",
        "    horizontal_flip=True,\n",
        "    fill_mode='nearest'\n",
        ")\n",
        "\n",
        "# Preprocessing for validation and test data\n",
        "test_datagen = ImageDataGenerator(rescale=1.0 / 255.0)\n",
        "\n",
        "# Load training data\n",
        "train_generator = train_datagen.flow_from_directory(\n",
        "    train_data_dir,\n",
        "    target_size=(img_height, img_width),\n",
        "    batch_size=batch_size,\n",
        "    class_mode='binary',\n",
        "    shuffle=True\n",
        ")\n",
        "\n",
        "# Load validation data\n",
        "val_generator = test_datagen.flow_from_directory(\n",
        "    val_data_dir,\n",
        "    target_size=(img_height, img_width),\n",
        "    batch_size=batch_size,\n",
        "    class_mode='binary',\n",
        "    shuffle=False\n",
        ")\n",
        "\n",
        "# Load test data\n",
        "test_generator = test_datagen.flow_from_directory(\n",
        "    test_data_dir,\n",
        "    target_size=(img_height, img_width),\n",
        "    batch_size=batch_size,\n",
        "    class_mode='binary',\n",
        "    shuffle=False\n",
        ")\n",
        "\n",
        "# Define the objective function for Optuna\n",
        "def objective(trial):\n",
        "    model = models.Sequential()\n",
        "    model.add(layers.Input(shape=(img_height, img_width, 3)))\n",
        "\n",
        "    # Suggest hyperparameters\n",
        "    conv_units = trial.suggest_int('conv_units', 32, 128)\n",
        "    model.add(layers.Conv2D(conv_units, (3, 3), activation='relu'))\n",
        "    model.add(layers.MaxPooling2D(pool_size=(2, 2)))\n",
        "\n",
        "    conv_units2 = trial.suggest_int('conv_units2', 64, 256)\n",
        "    model.add(layers.Conv2D(conv_units2, (3, 3), activation='relu'))\n",
        "    model.add(layers.MaxPooling2D(pool_size=(2, 2)))\n",
        "\n",
        "    model.add(layers.Conv2D(128, (3, 3), activation='relu'))\n",
        "    model.add(layers.MaxPooling2D(pool_size=(2, 2)))\n",
        "    model.add(layers.Flatten())\n",
        "\n",
        "    dense_units = trial.suggest_int('dense_units', 64, 256)\n",
        "    model.add(layers.Dense(dense_units, activation='relu'))\n",
        "    model.add(layers.Dense(1, activation='sigmoid'))\n",
        "\n",
        "    # Compile the model\n",
        "    learning_rate = trial.suggest_loguniform('lr', 1e-5, 1e-1)\n",
        "    model.compile(optimizer=tf.keras.optimizers.Adam(learning_rate=learning_rate),\n",
        "                  loss='binary_crossentropy',\n",
        "                  metrics=['accuracy'])\n",
        "\n",
        "    # Suggest number of epochs\n",
        "    max_epochs = trial.suggest_int('epochs', 5, 10)  # Adjust range as needed\n",
        "\n",
        "    # Callbacks for early stopping and model checkpointing\n",
        "    early_stopping = EarlyStopping(monitor='val_loss', patience=5, verbose=1, restore_best_weights=True)\n",
        "    model_checkpoint = ModelCheckpoint('best_model.keras', monitor='val_accuracy', save_best_only=True, mode='max')\n",
        "\n",
        "    # Train the model\n",
        "    history = model.fit(\n",
        "        train_generator,\n",
        "        validation_data=val_generator,\n",
        "        epochs=max_epochs,\n",
        "        steps_per_epoch=train_generator.samples // batch_size,\n",
        "        validation_steps=val_generator.samples // batch_size,\n",
        "        callbacks=[early_stopping, model_checkpoint],\n",
        "        verbose=0\n",
        "    )\n",
        "\n",
        "    # Return the best validation accuracy\n",
        "    return max(history.history['val_accuracy'])\n",
        "\n",
        "# Create a study and optimize\n",
        "study = optuna.create_study(direction='maximize')\n",
        "study.optimize(objective, n_trials=10)  # Adjust n_trials as needed\n",
        "\n",
        "# Print the best hyperparameters\n",
        "print(\"Best trial:\")\n",
        "trial = study.best_trial\n",
        "print(\"  Value: {}\".format(trial.value))\n",
        "print(\"  Params: \")\n",
        "for key, value in trial.params.items():\n",
        "    print(\"    {}: {}\".format(key, value))\n",
        "\n",
        "# Visualization of the results\n",
        "import optuna.visualization as vis\n",
        "\n",
        "# Plot optimization history\n",
        "vis.plot_optimization_history(study)\n",
        "\n",
        "# Plot parallel coordinate plot\n",
        "vis.plot_parallel_coordinate(study)\n",
        "\n",
        "# Load the best saved model\n",
        "best_model = tf.keras.models.load_model('best_model.keras')\n",
        "\n",
        "# Evaluate the best model on the test set\n",
        "test_loss, test_accuracy = best_model.evaluate(test_generator, steps=test_generator.samples // batch_size)\n",
        "print(f'Test accuracy of the best model: {test_accuracy:.2f}')\n",
        "#cnn"
      ],
      "metadata": {
        "colab": {
          "base_uri": "https://localhost:8080/"
        },
        "id": "VJ1IxrcZ3PPv",
        "outputId": "1acdc806-1dca-4699-f28c-dd1c2ecaa036"
      },
      "execution_count": 9,
      "outputs": [
        {
          "output_type": "stream",
          "name": "stdout",
          "text": [
            "Found 207 images belonging to 2 classes.\n",
            "Found 201 images belonging to 2 classes.\n",
            "Found 200 images belonging to 2 classes.\n"
          ]
        },
        {
          "output_type": "stream",
          "name": "stderr",
          "text": [
            "[I 2024-10-24 21:53:15,103] A new study created in memory with name: no-name-1bfde879-358e-408d-88d8-dd49b8333a0c\n",
            "suggest_loguniform has been deprecated in v3.0.0. This feature will be removed in v6.0.0. See https://github.com/optuna/optuna/releases/tag/v3.0.0. Use suggest_float(..., log=True) instead.\n",
            "Your `PyDataset` class should call `super().__init__(**kwargs)` in its constructor. `**kwargs` can include `workers`, `use_multiprocessing`, `max_queue_size`. Do not pass these arguments to `fit()`, as they will be ignored.\n",
            "Your input ran out of data; interrupting training. Make sure that your dataset or generator can generate at least `steps_per_epoch * epochs` batches. You may need to use the `.repeat()` function when building your dataset.\n"
          ]
        },
        {
          "output_type": "stream",
          "name": "stdout",
          "text": [
            "Restoring model weights from the end of the best epoch: 7.\n"
          ]
        },
        {
          "output_type": "stream",
          "name": "stderr",
          "text": [
            "[I 2024-10-24 21:54:16,367] Trial 0 finished with value: 0.9583333134651184 and parameters: {'conv_units': 60, 'conv_units2': 145, 'dense_units': 91, 'lr': 5.537306818098292e-05, 'epochs': 10}. Best is trial 0 with value: 0.9583333134651184.\n",
            "suggest_loguniform has been deprecated in v3.0.0. This feature will be removed in v6.0.0. See https://github.com/optuna/optuna/releases/tag/v3.0.0. Use suggest_float(..., log=True) instead.\n"
          ]
        },
        {
          "output_type": "stream",
          "name": "stdout",
          "text": [
            "Epoch 6: early stopping\n",
            "Restoring model weights from the end of the best epoch: 1.\n"
          ]
        },
        {
          "output_type": "stream",
          "name": "stderr",
          "text": [
            "[I 2024-10-24 21:54:55,086] Trial 1 finished with value: 0.9583333134651184 and parameters: {'conv_units': 118, 'conv_units2': 236, 'dense_units': 133, 'lr': 2.6749230851369105e-05, 'epochs': 10}. Best is trial 0 with value: 0.9583333134651184.\n"
          ]
        },
        {
          "output_type": "stream",
          "name": "stdout",
          "text": [
            "Restoring model weights from the end of the best epoch: 5.\n"
          ]
        },
        {
          "output_type": "stream",
          "name": "stderr",
          "text": [
            "[I 2024-10-24 21:55:35,900] Trial 2 finished with value: 0.9583333134651184 and parameters: {'conv_units': 110, 'conv_units2': 156, 'dense_units': 148, 'lr': 0.04543929489414379, 'epochs': 7}. Best is trial 0 with value: 0.9583333134651184.\n"
          ]
        },
        {
          "output_type": "stream",
          "name": "stdout",
          "text": [
            "Restoring model weights from the end of the best epoch: 5.\n"
          ]
        },
        {
          "output_type": "stream",
          "name": "stderr",
          "text": [
            "[I 2024-10-24 21:56:06,147] Trial 3 finished with value: 0.9583333134651184 and parameters: {'conv_units': 34, 'conv_units2': 188, 'dense_units': 246, 'lr': 0.0013714566274773978, 'epochs': 5}. Best is trial 0 with value: 0.9583333134651184.\n"
          ]
        },
        {
          "output_type": "stream",
          "name": "stdout",
          "text": [
            "Epoch 8: early stopping\n",
            "Restoring model weights from the end of the best epoch: 3.\n"
          ]
        },
        {
          "output_type": "stream",
          "name": "stderr",
          "text": [
            "[I 2024-10-24 21:56:39,386] Trial 4 finished with value: 0.9583333134651184 and parameters: {'conv_units': 43, 'conv_units2': 101, 'dense_units': 252, 'lr': 7.186375102510213e-05, 'epochs': 10}. Best is trial 0 with value: 0.9583333134651184.\n"
          ]
        },
        {
          "output_type": "stream",
          "name": "stdout",
          "text": [
            "Restoring model weights from the end of the best epoch: 5.\n"
          ]
        },
        {
          "output_type": "stream",
          "name": "stderr",
          "text": [
            "[I 2024-10-24 21:57:28,305] Trial 5 finished with value: 0.9583333134651184 and parameters: {'conv_units': 68, 'conv_units2': 201, 'dense_units': 194, 'lr': 0.08161358634656299, 'epochs': 9}. Best is trial 0 with value: 0.9583333134651184.\n"
          ]
        },
        {
          "output_type": "stream",
          "name": "stdout",
          "text": [
            "Epoch 6: early stopping\n",
            "Restoring model weights from the end of the best epoch: 1.\n"
          ]
        },
        {
          "output_type": "stream",
          "name": "stderr",
          "text": [
            "[I 2024-10-24 21:58:19,452] Trial 6 finished with value: 0.9583333134651184 and parameters: {'conv_units': 116, 'conv_units2': 136, 'dense_units': 117, 'lr': 4.679133431900793e-05, 'epochs': 10}. Best is trial 0 with value: 0.9583333134651184.\n"
          ]
        },
        {
          "output_type": "stream",
          "name": "stdout",
          "text": [
            "Restoring model weights from the end of the best epoch: 1.\n"
          ]
        },
        {
          "output_type": "stream",
          "name": "stderr",
          "text": [
            "[I 2024-10-24 21:59:09,444] Trial 7 finished with value: 0.9583333134651184 and parameters: {'conv_units': 35, 'conv_units2': 121, 'dense_units': 248, 'lr': 0.0003737676150764117, 'epochs': 5}. Best is trial 0 with value: 0.9583333134651184.\n"
          ]
        },
        {
          "output_type": "stream",
          "name": "stdout",
          "text": [
            "Restoring model weights from the end of the best epoch: 3.\n"
          ]
        },
        {
          "output_type": "stream",
          "name": "stderr",
          "text": [
            "[I 2024-10-24 21:59:43,465] Trial 8 finished with value: 0.9583333134651184 and parameters: {'conv_units': 55, 'conv_units2': 207, 'dense_units': 233, 'lr': 0.0020510303149352377, 'epochs': 5}. Best is trial 0 with value: 0.9583333134651184.\n"
          ]
        },
        {
          "output_type": "stream",
          "name": "stdout",
          "text": [
            "Restoring model weights from the end of the best epoch: 3.\n"
          ]
        },
        {
          "output_type": "stream",
          "name": "stderr",
          "text": [
            "[I 2024-10-24 22:00:35,392] Trial 9 finished with value: 0.9583333134651184 and parameters: {'conv_units': 107, 'conv_units2': 247, 'dense_units': 144, 'lr': 1.8183733438037654e-05, 'epochs': 6}. Best is trial 0 with value: 0.9583333134651184.\n"
          ]
        },
        {
          "output_type": "stream",
          "name": "stdout",
          "text": [
            "Best trial:\n",
            "  Value: 0.9583333134651184\n",
            "  Params: \n",
            "    conv_units: 60\n",
            "    conv_units2: 145\n",
            "    dense_units: 91\n",
            "    lr: 5.537306818098292e-05\n",
            "    epochs: 10\n"
          ]
        },
        {
          "output_type": "stream",
          "name": "stderr",
          "text": [
            "/usr/local/lib/python3.10/dist-packages/keras/src/trainers/data_adapters/py_dataset_adapter.py:121: UserWarning:\n",
            "\n",
            "Your `PyDataset` class should call `super().__init__(**kwargs)` in its constructor. `**kwargs` can include `workers`, `use_multiprocessing`, `max_queue_size`. Do not pass these arguments to `fit()`, as they will be ignored.\n",
            "\n"
          ]
        },
        {
          "output_type": "stream",
          "name": "stdout",
          "text": [
            "\u001b[1m12/12\u001b[0m \u001b[32m━━━━━━━━━━━━━━━━━━━━\u001b[0m\u001b[37m\u001b[0m \u001b[1m1s\u001b[0m 69ms/step - accuracy: 0.9960 - loss: 0.1004\n",
            "Test accuracy of the best model: 0.97\n"
          ]
        }
      ]
    },
    {
      "cell_type": "code",
      "source": [
        "# استيراد المكتبات اللازمة\n",
        "import tensorflow as tf\n",
        "from tensorflow.keras import layers, models\n",
        "from tensorflow.keras.preprocessing.image import ImageDataGenerator\n",
        "from tensorflow.keras.callbacks import EarlyStopping, ModelCheckpoint\n",
        "from tensorflow.keras.applications import ResNet50\n",
        "import optuna\n",
        "\n",
        "# إعداد المعلمات\n",
        "img_height, img_width = 224, 224  # تحديد أبعاد الصورة المدخلة\n",
        "batch_size = 16  # عدد الصور في كل دفعة\n",
        "\n",
        "# تحديد مسارات مجلدات البيانات\n",
        "train_data_dir = '/content/faint_detection_newdataset/train'  # مسار بيانات التدريب\n",
        "val_data_dir = '/content/faint_detection_newdataset/validate'  # مسار بيانات التحقق\n",
        "test_data_dir = '/content/faint_detection_newdataset/test'    # مسار بيانات الاختبار\n",
        "\n",
        "# تحسين البيانات ومعالجتها لتدريب النموذج\n",
        "train_datagen = ImageDataGenerator(\n",
        "    rescale=1.0 / 255.0,  # إعادة تدرج قيم البكسل إلى النطاق [0, 1]\n",
        "    rotation_range=10,  # تدوير الصورة بزاوية تصل إلى 10 درجات\n",
        "    width_shift_range=0.1,  # إزاحة الصورة أفقياً بنسبة 10%\n",
        "    height_shift_range=0.1,  # إزاحة الصورة عمودياً بنسبة 10%\n",
        "    shear_range=0.1,  # تشويه الصورة بنسبة 10%\n",
        "    zoom_range=0.1,  # تكبير الصورة بنسبة 10%\n",
        "    horizontal_flip=True,  # قلب الصورة أفقياً\n",
        "    fill_mode='nearest'  # ملء المساحات الفارغة بأقرب قيمة\n",
        ")\n",
        "\n",
        "# معالجة البيانات لمجموعات التحقق والاختبار\n",
        "test_datagen = ImageDataGenerator(rescale=1.0 / 255.0)  # إعادة تدرج قيم البكسل فقط\n",
        "\n",
        "# تحميل بيانات التدريب\n",
        "train_generator = train_datagen.flow_from_directory(\n",
        "    train_data_dir,\n",
        "    target_size=(img_height, img_width),  # تغيير حجم الصور\n",
        "    batch_size=batch_size,  # عدد الصور في كل دفعة\n",
        "    class_mode='binary',  # التصنيف الثنائي\n",
        "    shuffle=True  # خلط البيانات\n",
        ")\n",
        "\n",
        "# تحميل بيانات التحقق\n",
        "val_generator = test_datagen.flow_from_directory(\n",
        "    val_data_dir,\n",
        "    target_size=(img_height, img_width),\n",
        "    batch_size=batch_size,\n",
        "    class_mode='binary',\n",
        "    shuffle=False  # عدم خلط البيانات\n",
        ")\n",
        "\n",
        "# تحميل بيانات الاختبار\n",
        "test_generator = test_datagen.flow_from_directory(\n",
        "    test_data_dir,\n",
        "    target_size=(img_height, img_width),\n",
        "    batch_size=batch_size,\n",
        "    class_mode='binary',\n",
        "    shuffle=False  # عدم خلط البيانات\n",
        ")\n",
        "\n",
        "# تعريف دالة الهدف لـ Optuna\n",
        "def objective(trial):\n",
        "    # نموذج ResNet50 بدون الطبقة العليا\n",
        "    base_model = ResNet50(weights='imagenet', include_top=False, input_shape=(img_height, img_width, 3))\n",
        "    base_model.trainable = trial.suggest_categorical('trainable', [True, False])  # تحديد ما إذا كان النموذج سيتدرب\n",
        "\n",
        "    # تعريف طبقة الإدخال\n",
        "    inputs = layers.Input(shape=(img_height, img_width, 3))\n",
        "    x = base_model(inputs)  # تمرير الإدخال إلى النموذج الأساسي\n",
        "    x = layers.GlobalAveragePooling2D()(x)  # طبقة تجمع عالمي\n",
        "\n",
        "    # اختيار عدد الوحدات في الطبقة الكثيفة\n",
        "    dense_units = trial.suggest_int('dense_units', 64, 256)\n",
        "    x = layers.Dense(dense_units, activation='relu')(x)  # إضافة طبقة كثيفة\n",
        "    outputs = layers.Dense(1, activation='sigmoid')(x)  # طبقة الإخراج\n",
        "\n",
        "    model = models.Model(inputs=inputs, outputs=outputs)  # إنشاء النموذج\n",
        "\n",
        "    # تحديد معدل التعلم\n",
        "    learning_rate = trial.suggest_float('lr', 1e-5, 1e-1, log=True)\n",
        "    model.compile(optimizer=tf.keras.optimizers.Adam(learning_rate=learning_rate),  # تجميع النموذج\n",
        "                  loss='binary_crossentropy',\n",
        "                  metrics=['accuracy'])\n",
        "\n",
        "    # إعداد عدد العصور\n",
        "    max_epochs = trial.suggest_int('epochs', 5, 10)\n",
        "\n",
        "    # إعدادات التحقق المبكر وحفظ النموذج\n",
        "    early_stopping = EarlyStopping(monitor='val_loss', patience=5, verbose=1, restore_best_weights=True)\n",
        "    model_checkpoint = ModelCheckpoint('best_model_v2.keras', monitor='val_accuracy', save_best_only=True, mode='max')\n",
        "\n",
        "    # تدريب النموذج\n",
        "    history = model.fit(\n",
        "        train_generator,\n",
        "        validation_data=val_generator,\n",
        "        epochs=max_epochs,\n",
        "        steps_per_epoch=train_generator.samples // batch_size,\n",
        "        validation_steps=val_generator.samples // batch_size,\n",
        "        callbacks=[early_stopping, model_checkpoint],\n",
        "        verbose=0\n",
        "    )\n",
        "\n",
        "    # إعادة أفضل دقة تحقق\n",
        "    return max(history.history['val_accuracy'])\n",
        "\n",
        "# إنشاء دراسة وتحسين المعلمات\n",
        "study = optuna.create_study(direction='maximize')  # تحديد هدف التحسين\n",
        "study.optimize(objective, n_trials=10)  # عدد التجارب\n",
        "\n",
        "# طباعة أفضل المعلمات\n",
        "print(\"Best trial:\")\n",
        "trial = study.best_trial\n",
        "print(\"  Value: {}\".format(trial.value))  # أفضل قيمة من الدراسة\n",
        "print(\"  Params: \")\n",
        "for key, value in trial.params.items():\n",
        "    print(\"    {}: {}\".format(key, value))\n",
        "\n",
        "# تصور النتائج\n",
        "import optuna.visualization as vis\n",
        "\n",
        "# رسم تاريخ التحسين\n",
        "vis.plot_optimization_history(study)\n",
        "\n",
        "# رسم الرسم البياني للمعلمات المتوازية\n",
        "vis.plot_parallel_coordinate(study)\n",
        "\n",
        "# تحميل النموذج الأفضل\n",
        "best_model = None\n",
        "try:\n",
        "    best_model = tf.keras.models.load_model('best_model_v2.keras')  # تحميل النموذج الأفضل\n",
        "    best_model.summary()  # عرض بنية النموذج\n",
        "    print(\"Best model loaded successfully.\")\n",
        "except Exception as e:\n",
        "    print(f\"Error loading model: {e}\")\n",
        "\n",
        "# تقييم النموذج الأفضل على مجموعة الاختبار إذا تم تحميله بنجاح\n",
        "if best_model is not None:\n",
        "    test_loss, test_accuracy = best_model.evaluate(test_generator, steps=test_generator.samples // batch_size)\n",
        "    print(f'Test accuracy of the best model: {test_accuracy:.2f}')  # طباعة دقة النموذج على مجموعة الاختبار\n",
        "else:\n",
        "    print(\"Best model could not be evaluated because it was not loaded.\")\n",
        "\n",
        "    #ResNet50"
      ],
      "metadata": {
        "colab": {
          "base_uri": "https://localhost:8080/",
          "height": 1000
        },
        "id": "9f8Hi3BTXaFw",
        "outputId": "e53da5ff-b5a1-4f1d-a0da-f3bc70886ace"
      },
      "execution_count": 10,
      "outputs": [
        {
          "output_type": "stream",
          "name": "stdout",
          "text": [
            "Found 207 images belonging to 2 classes.\n",
            "Found 201 images belonging to 2 classes.\n",
            "Found 200 images belonging to 2 classes.\n"
          ]
        },
        {
          "output_type": "stream",
          "name": "stderr",
          "text": [
            "[I 2024-10-24 22:03:57,418] A new study created in memory with name: no-name-283aed90-86dc-4119-be08-cf9db647a166\n"
          ]
        },
        {
          "output_type": "stream",
          "name": "stdout",
          "text": [
            "Downloading data from https://storage.googleapis.com/tensorflow/keras-applications/resnet/resnet50_weights_tf_dim_ordering_tf_kernels_notop.h5\n",
            "\u001b[1m94765736/94765736\u001b[0m \u001b[32m━━━━━━━━━━━━━━━━━━━━\u001b[0m\u001b[37m\u001b[0m \u001b[1m0s\u001b[0m 0us/step\n"
          ]
        },
        {
          "output_type": "stream",
          "name": "stderr",
          "text": [
            "/usr/lib/python3.10/contextlib.py:153: UserWarning:\n",
            "\n",
            "Your input ran out of data; interrupting training. Make sure that your dataset or generator can generate at least `steps_per_epoch * epochs` batches. You may need to use the `.repeat()` function when building your dataset.\n",
            "\n"
          ]
        },
        {
          "output_type": "stream",
          "name": "stdout",
          "text": [
            "Restoring model weights from the end of the best epoch: 7.\n"
          ]
        },
        {
          "output_type": "stream",
          "name": "stderr",
          "text": [
            "[I 2024-10-24 22:04:47,803] Trial 0 finished with value: 0.9583333134651184 and parameters: {'trainable': False, 'dense_units': 154, 'lr': 0.004127443208122523, 'epochs': 9}. Best is trial 0 with value: 0.9583333134651184.\n"
          ]
        },
        {
          "output_type": "stream",
          "name": "stdout",
          "text": [
            "Restoring model weights from the end of the best epoch: 5.\n"
          ]
        },
        {
          "output_type": "stream",
          "name": "stderr",
          "text": [
            "[I 2024-10-24 22:05:24,146] Trial 1 finished with value: 0.9583333134651184 and parameters: {'trainable': False, 'dense_units': 218, 'lr': 1.3454382128618167e-05, 'epochs': 6}. Best is trial 0 with value: 0.9583333134651184.\n"
          ]
        },
        {
          "output_type": "stream",
          "name": "stdout",
          "text": [
            "Restoring model weights from the end of the best epoch: 5.\n"
          ]
        },
        {
          "output_type": "stream",
          "name": "stderr",
          "text": [
            "[I 2024-10-24 22:05:56,350] Trial 2 finished with value: 0.9583333134651184 and parameters: {'trainable': False, 'dense_units': 142, 'lr': 3.042045513248642e-05, 'epochs': 5}. Best is trial 0 with value: 0.9583333134651184.\n"
          ]
        },
        {
          "output_type": "stream",
          "name": "stdout",
          "text": [
            "Restoring model weights from the end of the best epoch: 7.\n"
          ]
        },
        {
          "output_type": "stream",
          "name": "stderr",
          "text": [
            "[I 2024-10-24 22:08:13,850] Trial 3 finished with value: 0.9583333134651184 and parameters: {'trainable': True, 'dense_units': 68, 'lr': 0.00026472680987980966, 'epochs': 7}. Best is trial 0 with value: 0.9583333134651184.\n"
          ]
        },
        {
          "output_type": "stream",
          "name": "stdout",
          "text": [
            "Restoring model weights from the end of the best epoch: 3.\n"
          ]
        },
        {
          "output_type": "stream",
          "name": "stderr",
          "text": [
            "[I 2024-10-24 22:08:47,329] Trial 4 finished with value: 0.9583333134651184 and parameters: {'trainable': False, 'dense_units': 104, 'lr': 0.014163452662147587, 'epochs': 6}. Best is trial 0 with value: 0.9583333134651184.\n"
          ]
        },
        {
          "output_type": "stream",
          "name": "stdout",
          "text": [
            "Restoring model weights from the end of the best epoch: 5.\n"
          ]
        },
        {
          "output_type": "stream",
          "name": "stderr",
          "text": [
            "[I 2024-10-24 22:09:30,094] Trial 5 finished with value: 0.9583333134651184 and parameters: {'trainable': False, 'dense_units': 247, 'lr': 0.08257054319883479, 'epochs': 9}. Best is trial 0 with value: 0.9583333134651184.\n"
          ]
        },
        {
          "output_type": "stream",
          "name": "stdout",
          "text": [
            "Restoring model weights from the end of the best epoch: 9.\n"
          ]
        },
        {
          "output_type": "stream",
          "name": "stderr",
          "text": [
            "[I 2024-10-24 22:12:27,162] Trial 6 finished with value: 0.9583333134651184 and parameters: {'trainable': True, 'dense_units': 187, 'lr': 0.00995864195324559, 'epochs': 9}. Best is trial 0 with value: 0.9583333134651184.\n"
          ]
        },
        {
          "output_type": "stream",
          "name": "stdout",
          "text": [
            "Restoring model weights from the end of the best epoch: 7.\n"
          ]
        },
        {
          "output_type": "stream",
          "name": "stderr",
          "text": [
            "[I 2024-10-24 22:14:47,533] Trial 7 finished with value: 0.9583333134651184 and parameters: {'trainable': True, 'dense_units': 192, 'lr': 0.028608539893487644, 'epochs': 8}. Best is trial 0 with value: 0.9583333134651184.\n"
          ]
        },
        {
          "output_type": "stream",
          "name": "stdout",
          "text": [
            "Restoring model weights from the end of the best epoch: 5.\n"
          ]
        },
        {
          "output_type": "stream",
          "name": "stderr",
          "text": [
            "[I 2024-10-24 22:15:27,389] Trial 8 finished with value: 0.9583333134651184 and parameters: {'trainable': False, 'dense_units': 216, 'lr': 0.0017320561433018954, 'epochs': 6}. Best is trial 0 with value: 0.9583333134651184.\n"
          ]
        },
        {
          "output_type": "stream",
          "name": "stdout",
          "text": [
            "Restoring model weights from the end of the best epoch: 5.\n"
          ]
        },
        {
          "output_type": "stream",
          "name": "stderr",
          "text": [
            "[I 2024-10-24 22:16:01,159] Trial 9 finished with value: 0.9583333134651184 and parameters: {'trainable': False, 'dense_units': 177, 'lr': 4.9533446843413706e-05, 'epochs': 6}. Best is trial 0 with value: 0.9583333134651184.\n"
          ]
        },
        {
          "output_type": "stream",
          "name": "stdout",
          "text": [
            "Best trial:\n",
            "  Value: 0.9583333134651184\n",
            "  Params: \n",
            "    trainable: False\n",
            "    dense_units: 154\n",
            "    lr: 0.004127443208122523\n",
            "    epochs: 9\n"
          ]
        },
        {
          "output_type": "display_data",
          "data": {
            "text/plain": [
              "\u001b[1mModel: \"functional_108\"\u001b[0m\n"
            ],
            "text/html": [
              "<pre style=\"white-space:pre;overflow-x:auto;line-height:normal;font-family:Menlo,'DejaVu Sans Mono',consolas,'Courier New',monospace\"><span style=\"font-weight: bold\">Model: \"functional_108\"</span>\n",
              "</pre>\n"
            ]
          },
          "metadata": {}
        },
        {
          "output_type": "display_data",
          "data": {
            "text/plain": [
              "┏━━━━━━━━━━━━━━━━━━━━━━━━━━━━━━━━━━━━━━┳━━━━━━━━━━━━━━━━━━━━━━━━━━━━━┳━━━━━━━━━━━━━━━━━┓\n",
              "┃\u001b[1m \u001b[0m\u001b[1mLayer (type)                        \u001b[0m\u001b[1m \u001b[0m┃\u001b[1m \u001b[0m\u001b[1mOutput Shape               \u001b[0m\u001b[1m \u001b[0m┃\u001b[1m \u001b[0m\u001b[1m        Param #\u001b[0m\u001b[1m \u001b[0m┃\n",
              "┡━━━━━━━━━━━━━━━━━━━━━━━━━━━━━━━━━━━━━━╇━━━━━━━━━━━━━━━━━━━━━━━━━━━━━╇━━━━━━━━━━━━━━━━━┩\n",
              "│ input_layer_29 (\u001b[38;5;33mInputLayer\u001b[0m)          │ (\u001b[38;5;45mNone\u001b[0m, \u001b[38;5;34m224\u001b[0m, \u001b[38;5;34m224\u001b[0m, \u001b[38;5;34m3\u001b[0m)         │               \u001b[38;5;34m0\u001b[0m │\n",
              "├──────────────────────────────────────┼─────────────────────────────┼─────────────────┤\n",
              "│ resnet50 (\u001b[38;5;33mFunctional\u001b[0m)                │ (\u001b[38;5;45mNone\u001b[0m, \u001b[38;5;34m7\u001b[0m, \u001b[38;5;34m7\u001b[0m, \u001b[38;5;34m2048\u001b[0m)          │      \u001b[38;5;34m23,587,712\u001b[0m │\n",
              "├──────────────────────────────────────┼─────────────────────────────┼─────────────────┤\n",
              "│ global_average_pooling2d_9           │ (\u001b[38;5;45mNone\u001b[0m, \u001b[38;5;34m2048\u001b[0m)                │               \u001b[38;5;34m0\u001b[0m │\n",
              "│ (\u001b[38;5;33mGlobalAveragePooling2D\u001b[0m)             │                             │                 │\n",
              "├──────────────────────────────────────┼─────────────────────────────┼─────────────────┤\n",
              "│ dense_38 (\u001b[38;5;33mDense\u001b[0m)                     │ (\u001b[38;5;45mNone\u001b[0m, \u001b[38;5;34m177\u001b[0m)                 │         \u001b[38;5;34m362,673\u001b[0m │\n",
              "├──────────────────────────────────────┼─────────────────────────────┼─────────────────┤\n",
              "│ dense_39 (\u001b[38;5;33mDense\u001b[0m)                     │ (\u001b[38;5;45mNone\u001b[0m, \u001b[38;5;34m1\u001b[0m)                   │             \u001b[38;5;34m178\u001b[0m │\n",
              "└──────────────────────────────────────┴─────────────────────────────┴─────────────────┘\n"
            ],
            "text/html": [
              "<pre style=\"white-space:pre;overflow-x:auto;line-height:normal;font-family:Menlo,'DejaVu Sans Mono',consolas,'Courier New',monospace\">┏━━━━━━━━━━━━━━━━━━━━━━━━━━━━━━━━━━━━━━┳━━━━━━━━━━━━━━━━━━━━━━━━━━━━━┳━━━━━━━━━━━━━━━━━┓\n",
              "┃<span style=\"font-weight: bold\"> Layer (type)                         </span>┃<span style=\"font-weight: bold\"> Output Shape                </span>┃<span style=\"font-weight: bold\">         Param # </span>┃\n",
              "┡━━━━━━━━━━━━━━━━━━━━━━━━━━━━━━━━━━━━━━╇━━━━━━━━━━━━━━━━━━━━━━━━━━━━━╇━━━━━━━━━━━━━━━━━┩\n",
              "│ input_layer_29 (<span style=\"color: #0087ff; text-decoration-color: #0087ff\">InputLayer</span>)          │ (<span style=\"color: #00d7ff; text-decoration-color: #00d7ff\">None</span>, <span style=\"color: #00af00; text-decoration-color: #00af00\">224</span>, <span style=\"color: #00af00; text-decoration-color: #00af00\">224</span>, <span style=\"color: #00af00; text-decoration-color: #00af00\">3</span>)         │               <span style=\"color: #00af00; text-decoration-color: #00af00\">0</span> │\n",
              "├──────────────────────────────────────┼─────────────────────────────┼─────────────────┤\n",
              "│ resnet50 (<span style=\"color: #0087ff; text-decoration-color: #0087ff\">Functional</span>)                │ (<span style=\"color: #00d7ff; text-decoration-color: #00d7ff\">None</span>, <span style=\"color: #00af00; text-decoration-color: #00af00\">7</span>, <span style=\"color: #00af00; text-decoration-color: #00af00\">7</span>, <span style=\"color: #00af00; text-decoration-color: #00af00\">2048</span>)          │      <span style=\"color: #00af00; text-decoration-color: #00af00\">23,587,712</span> │\n",
              "├──────────────────────────────────────┼─────────────────────────────┼─────────────────┤\n",
              "│ global_average_pooling2d_9           │ (<span style=\"color: #00d7ff; text-decoration-color: #00d7ff\">None</span>, <span style=\"color: #00af00; text-decoration-color: #00af00\">2048</span>)                │               <span style=\"color: #00af00; text-decoration-color: #00af00\">0</span> │\n",
              "│ (<span style=\"color: #0087ff; text-decoration-color: #0087ff\">GlobalAveragePooling2D</span>)             │                             │                 │\n",
              "├──────────────────────────────────────┼─────────────────────────────┼─────────────────┤\n",
              "│ dense_38 (<span style=\"color: #0087ff; text-decoration-color: #0087ff\">Dense</span>)                     │ (<span style=\"color: #00d7ff; text-decoration-color: #00d7ff\">None</span>, <span style=\"color: #00af00; text-decoration-color: #00af00\">177</span>)                 │         <span style=\"color: #00af00; text-decoration-color: #00af00\">362,673</span> │\n",
              "├──────────────────────────────────────┼─────────────────────────────┼─────────────────┤\n",
              "│ dense_39 (<span style=\"color: #0087ff; text-decoration-color: #0087ff\">Dense</span>)                     │ (<span style=\"color: #00d7ff; text-decoration-color: #00d7ff\">None</span>, <span style=\"color: #00af00; text-decoration-color: #00af00\">1</span>)                   │             <span style=\"color: #00af00; text-decoration-color: #00af00\">178</span> │\n",
              "└──────────────────────────────────────┴─────────────────────────────┴─────────────────┘\n",
              "</pre>\n"
            ]
          },
          "metadata": {}
        },
        {
          "output_type": "display_data",
          "data": {
            "text/plain": [
              "\u001b[1m Total params: \u001b[0m\u001b[38;5;34m24,676,267\u001b[0m (94.13 MB)\n"
            ],
            "text/html": [
              "<pre style=\"white-space:pre;overflow-x:auto;line-height:normal;font-family:Menlo,'DejaVu Sans Mono',consolas,'Courier New',monospace\"><span style=\"font-weight: bold\"> Total params: </span><span style=\"color: #00af00; text-decoration-color: #00af00\">24,676,267</span> (94.13 MB)\n",
              "</pre>\n"
            ]
          },
          "metadata": {}
        },
        {
          "output_type": "display_data",
          "data": {
            "text/plain": [
              "\u001b[1m Trainable params: \u001b[0m\u001b[38;5;34m362,851\u001b[0m (1.38 MB)\n"
            ],
            "text/html": [
              "<pre style=\"white-space:pre;overflow-x:auto;line-height:normal;font-family:Menlo,'DejaVu Sans Mono',consolas,'Courier New',monospace\"><span style=\"font-weight: bold\"> Trainable params: </span><span style=\"color: #00af00; text-decoration-color: #00af00\">362,851</span> (1.38 MB)\n",
              "</pre>\n"
            ]
          },
          "metadata": {}
        },
        {
          "output_type": "display_data",
          "data": {
            "text/plain": [
              "\u001b[1m Non-trainable params: \u001b[0m\u001b[38;5;34m23,587,712\u001b[0m (89.98 MB)\n"
            ],
            "text/html": [
              "<pre style=\"white-space:pre;overflow-x:auto;line-height:normal;font-family:Menlo,'DejaVu Sans Mono',consolas,'Courier New',monospace\"><span style=\"font-weight: bold\"> Non-trainable params: </span><span style=\"color: #00af00; text-decoration-color: #00af00\">23,587,712</span> (89.98 MB)\n",
              "</pre>\n"
            ]
          },
          "metadata": {}
        },
        {
          "output_type": "display_data",
          "data": {
            "text/plain": [
              "\u001b[1m Optimizer params: \u001b[0m\u001b[38;5;34m725,704\u001b[0m (2.77 MB)\n"
            ],
            "text/html": [
              "<pre style=\"white-space:pre;overflow-x:auto;line-height:normal;font-family:Menlo,'DejaVu Sans Mono',consolas,'Courier New',monospace\"><span style=\"font-weight: bold\"> Optimizer params: </span><span style=\"color: #00af00; text-decoration-color: #00af00\">725,704</span> (2.77 MB)\n",
              "</pre>\n"
            ]
          },
          "metadata": {}
        },
        {
          "output_type": "stream",
          "name": "stdout",
          "text": [
            "Best model loaded successfully.\n",
            "\u001b[1m12/12\u001b[0m \u001b[32m━━━━━━━━━━━━━━━━━━━━\u001b[0m\u001b[37m\u001b[0m \u001b[1m5s\u001b[0m 65ms/step - accuracy: 0.9960 - loss: 0.3526\n",
            "Test accuracy of the best model: 0.97\n"
          ]
        }
      ]
    },
    {
      "cell_type": "code",
      "source": [
        "import tensorflow as tf\n",
        "from tensorflow.keras import layers, models\n",
        "from tensorflow.keras.preprocessing.image import ImageDataGenerator\n",
        "from tensorflow.keras.callbacks import EarlyStopping, ModelCheckpoint\n",
        "from tensorflow.keras.applications import ResNet50\n",
        "import optuna\n",
        "\n",
        "# 1. إعداد المعلمات\n",
        "img_height, img_width = 224, 224  # أبعاد الصور\n",
        "batch_size = 16  # عدد الصور في كل دفعة\n",
        "\n",
        "# 2. تحديد مسارات البيانات\n",
        "train_data_dir = '/content/faint_detection_newdataset/train'  # مسار بيانات التدريب\n",
        "val_data_dir = '/content/faint_detection_newdataset/validate'  # مسار بيانات التحقق\n",
        "test_data_dir = '/content/faint_detection_newdataset/test'    # مسار بيانات الاختبار\n",
        "\n",
        "# 3. تحسين البيانات ومعالجتها لبيانات التدريب\n",
        "train_datagen = ImageDataGenerator(\n",
        "    rescale=1.0 / 255.0,\n",
        "    rotation_range=20,  # زيادة زاوية التدوير\n",
        "    width_shift_range=0.2,  # زيادة الإزاحة الأفقية\n",
        "    height_shift_range=0.2,  # زيادة الإزاحة العمودية\n",
        "    shear_range=0.2,  # زيادة التشويه\n",
        "    zoom_range=0.2,  # زيادة التكبير\n",
        "    horizontal_flip=True,\n",
        "    fill_mode='nearest'\n",
        ")\n",
        "\n",
        "# 4. معالجة بيانات التحقق والاختبار\n",
        "test_datagen = ImageDataGenerator(rescale=1.0 / 255.0)  # إعادة تدرج قيم البكسل\n",
        "\n",
        "# 5. تحميل بيانات التدريب\n",
        "train_generator = train_datagen.flow_from_directory(\n",
        "    train_data_dir,\n",
        "    target_size=(img_height, img_width),\n",
        "    batch_size=batch_size,\n",
        "    class_mode='binary',\n",
        "    shuffle=True\n",
        ")\n",
        "\n",
        "# 6. تحميل بيانات التحقق\n",
        "val_generator = test_datagen.flow_from_directory(\n",
        "    val_data_dir,\n",
        "    target_size=(img_height, img_width),\n",
        "    batch_size=batch_size,\n",
        "    class_mode='binary',\n",
        "    shuffle=False\n",
        ")\n",
        "\n",
        "# 7. تحميل بيانات الاختبار\n",
        "test_generator = test_datagen.flow_from_directory(\n",
        "    test_data_dir,\n",
        "    target_size=(img_height, img_width),\n",
        "    batch_size=batch_size,\n",
        "    class_mode='binary',\n",
        "    shuffle=False\n",
        ")\n",
        "\n",
        "# 8. تعريف دالة الهدف لـ Optuna\n",
        "def objective(trial):\n",
        "    # نموذج ResNet50 بدون الطبقة العليا\n",
        "    base_model = ResNet50(weights='imagenet', include_top=False, input_shape=(img_height, img_width, 3))\n",
        "    base_model.trainable = trial.suggest_categorical('trainable', [True, False])  # تحديد قابلية التدريب\n",
        "\n",
        "    # 9. تعريف طبقة الإدخال\n",
        "    inputs = layers.Input(shape=(img_height, img_width, 3))\n",
        "    x = base_model(inputs)\n",
        "    x = layers.GlobalAveragePooling2D()(x)  # طبقة تجميع عالمية\n",
        "\n",
        "    # 10. إضافة طبقة كثيفة\n",
        "    dense_units = trial.suggest_int('dense_units', 64, 128)  # عدد الوحدات في الطبقة الكثيفة\n",
        "    x = layers.Dense(dense_units, activation='relu')(x)\n",
        "\n",
        "    # 11. إضافة طبقة إسقاط لتحسين التنظيم\n",
        "    dropout_rate = trial.suggest_float('dropout_rate', 0.2, 0.5)  # معدل الإسقاط\n",
        "    x = layers.Dropout(dropout_rate)(x)\n",
        "\n",
        "    # 12. طبقة الإخراج\n",
        "    outputs = layers.Dense(1, activation='sigmoid')(x)\n",
        "\n",
        "    # 13. إنشاء النموذج\n",
        "    model = models.Model(inputs=inputs, outputs=outputs)\n",
        "\n",
        "    # 14. تحسين معدل التعلم\n",
        "    learning_rate = trial.suggest_float('lr', 1e-5, 1e-2, log=True)  # تحسين معدل التعلم\n",
        "    model.compile(optimizer=tf.keras.optimizers.Adam(learning_rate=learning_rate),\n",
        "                  loss='binary_crossentropy',\n",
        "                  metrics=['accuracy'])\n",
        "\n",
        "    # 15. تحديد عدد العصور\n",
        "    max_epochs = trial.suggest_int('epochs', 10, 30)\n",
        "\n",
        "    # 16. إعداد أدوات التحقق المبكر وحفظ النموذج\n",
        "    early_stopping = EarlyStopping(monitor='val_loss', patience=5, verbose=1, restore_best_weights=True)\n",
        "    model_checkpoint = ModelCheckpoint('faint_detection_model.keras', monitor='val_accuracy', save_best_only=True, mode='max')\n",
        "\n",
        "    # 17. تدريب النموذج\n",
        "    history = model.fit(\n",
        "        train_generator,\n",
        "        validation_data=val_generator,\n",
        "        epochs=max_epochs,\n",
        "        steps_per_epoch=train_generator.samples // batch_size,\n",
        "        validation_steps=val_generator.samples // batch_size,\n",
        "        callbacks=[early_stopping, model_checkpoint],\n",
        "        verbose=0\n",
        "    )\n",
        "\n",
        "    # 18. إرجاع أفضل دقة تحقق\n",
        "    return max(history.history['val_accuracy'])\n",
        "\n",
        "# 19. إنشاء دراسة وتحسين المعلمات\n",
        "study = optuna.create_study(direction='maximize')\n",
        "study.optimize(objective, n_trials=30)  # تنفيذ عدد من التجارب\n",
        "\n",
        "# 20. طباعة أفضل المعلمات\n",
        "print(\"Best trial:\")\n",
        "trial = study.best_trial\n",
        "print(\"  Value: {}\".format(trial.value))\n",
        "print(\"  Params: \")\n",
        "for key, value in trial.params.items():\n",
        "    print(\"    {}: {}\".format(key, value))\n",
        "\n",
        "# 21. تصور النتائج\n",
        "import optuna.visualization as vis\n",
        "\n",
        "# رسم تاريخ التحسين\n",
        "vis.plot_optimization_history(study)\n",
        "\n",
        "# رسم المعلمات المتوازية\n",
        "vis.plot_parallel_coordinate(study)\n",
        "\n",
        "# 22. تحميل النموذج الأفضل\n",
        "best_model = None\n",
        "try:\n",
        "    best_model = tf.keras.models.load_model('faint_detection_model.keras')\n",
        "    best_model.summary()  # التحقق من هيكل النموذج\n",
        "    print(\"Best model loaded successfully.\")\n",
        "except Exception as e:\n",
        "    print(f\"Error loading model: {e}\")\n",
        "\n",
        "# 23. تقييم النموذج الأفضل إذا تم تحميله بنجاح\n",
        "if best_model is not None:\n",
        "    test_loss, test_accuracy = best_model.evaluate(test_generator, steps=test_generator.samples // batch_size)\n",
        "    print(f'Test accuracy of the best model: {test_accuracy:.2f}')\n",
        "else:\n",
        "    print(\"Best model could not be evaluated because it was not loaded.\")"
      ],
      "metadata": {
        "colab": {
          "base_uri": "https://localhost:8080/"
        },
        "id": "oE7LRn2SiFRN",
        "outputId": "08da5c94-8cf5-45df-8a03-0ca9f4482d5f"
      },
      "execution_count": null,
      "outputs": [
        {
          "output_type": "stream",
          "name": "stdout",
          "text": [
            "Found 207 images belonging to 2 classes.\n",
            "Found 201 images belonging to 2 classes.\n",
            "Found 200 images belonging to 2 classes.\n"
          ]
        },
        {
          "output_type": "stream",
          "name": "stderr",
          "text": [
            "[I 2024-10-24 22:16:26,055] A new study created in memory with name: no-name-ac229b5a-b1a2-49e9-a5ef-5fe55c379f1c\n"
          ]
        },
        {
          "output_type": "stream",
          "name": "stdout",
          "text": [
            "Epoch 12: early stopping\n",
            "Restoring model weights from the end of the best epoch: 7.\n"
          ]
        },
        {
          "output_type": "stream",
          "name": "stderr",
          "text": [
            "[I 2024-10-24 22:19:57,896] Trial 0 finished with value: 1.0 and parameters: {'trainable': True, 'dense_units': 69, 'dropout_rate': 0.2827119659565224, 'lr': 1.3401938412845188e-05, 'epochs': 19}. Best is trial 0 with value: 1.0.\n"
          ]
        },
        {
          "output_type": "stream",
          "name": "stdout",
          "text": [
            "Restoring model weights from the end of the best epoch: 11.\n"
          ]
        },
        {
          "output_type": "stream",
          "name": "stderr",
          "text": [
            "[I 2024-10-24 22:24:30,192] Trial 1 finished with value: 0.9583333134651184 and parameters: {'trainable': True, 'dense_units': 77, 'dropout_rate': 0.3203212462271359, 'lr': 0.0002544366539940815, 'epochs': 11}. Best is trial 0 with value: 1.0.\n"
          ]
        },
        {
          "output_type": "stream",
          "name": "stdout",
          "text": [
            "Epoch 16: early stopping\n",
            "Restoring model weights from the end of the best epoch: 11.\n"
          ]
        },
        {
          "output_type": "stream",
          "name": "stderr",
          "text": [
            "[I 2024-10-24 22:26:36,687] Trial 2 finished with value: 0.9583333134651184 and parameters: {'trainable': False, 'dense_units': 121, 'dropout_rate': 0.4564520745360309, 'lr': 4.561632935848113e-05, 'epochs': 16}. Best is trial 0 with value: 1.0.\n"
          ]
        }
      ]
    },
    {
      "cell_type": "code",
      "source": [],
      "metadata": {
        "id": "9NKSZpuntZXN"
      },
      "execution_count": null,
      "outputs": []
    }
  ]
}